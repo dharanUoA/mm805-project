{
  "cells": [
    {
      "cell_type": "code",
      "execution_count": 19,
      "metadata": {
        "id": "igMyGnjE9hEp"
      },
      "outputs": [],
      "source": [
        "import numpy as np\n",
        "import tensorflow as tf\n",
        "from sklearn.model_selection import train_test_split\n",
        "\n",
        "RANDOM_SEED = 8"
      ]
    },
    {
      "cell_type": "markdown",
      "metadata": {
        "id": "t2HDvhIu9hEr"
      },
      "source": [
        "# Specify each path"
      ]
    },
    {
      "cell_type": "code",
      "execution_count": 20,
      "metadata": {
        "id": "9NvZP2Zn9hEy"
      },
      "outputs": [],
      "source": [
        "dataset = 'model/keypoints.csv'\n",
        "model_save_path = 'model/hand_gesture_classifier'\n",
        "tflite_save_path = 'model/hand_gesture_classifier.tflite'"
      ]
    },
    {
      "cell_type": "markdown",
      "metadata": {
        "id": "s5oMH7x19hEz"
      },
      "source": [
        "# Set number of classes"
      ]
    },
    {
      "cell_type": "code",
      "execution_count": 21,
      "metadata": {
        "id": "du4kodXL9hEz"
      },
      "outputs": [],
      "source": [
        "NUM_CLASSES = 5"
      ]
    },
    {
      "cell_type": "markdown",
      "metadata": {
        "id": "XjnL0uso9hEz"
      },
      "source": [
        "# Dataset reading"
      ]
    },
    {
      "cell_type": "code",
      "execution_count": 22,
      "metadata": {
        "id": "QT5ZqtEz9hE0"
      },
      "outputs": [],
      "source": [
        "X_dataset = np.loadtxt(dataset, delimiter=',', dtype='float32', usecols=list(range(1, (21 * 2) + 1)))"
      ]
    },
    {
      "cell_type": "code",
      "execution_count": 23,
      "metadata": {
        "id": "QmoKFsp49hE0"
      },
      "outputs": [],
      "source": [
        "y_dataset = np.loadtxt(dataset, delimiter=',', dtype='int32', usecols=(0))"
      ]
    },
    {
      "cell_type": "code",
      "execution_count": 24,
      "metadata": {
        "id": "xQU7JTZ_9hE0"
      },
      "outputs": [],
      "source": [
        "X_train, X_test, y_train, y_test = train_test_split(X_dataset, y_dataset, train_size=0.75, random_state=RANDOM_SEED)"
      ]
    },
    {
      "cell_type": "markdown",
      "metadata": {
        "id": "mxK_lETT9hE0"
      },
      "source": [
        "# Model building"
      ]
    },
    {
      "cell_type": "code",
      "execution_count": 25,
      "metadata": {
        "id": "vHBmUf1t9hE1"
      },
      "outputs": [],
      "source": [
        "model = tf.keras.models.Sequential([\n",
        "    tf.keras.layers.Input((21 * 2, )),\n",
        "    tf.keras.layers.Dropout(0.2),\n",
        "    tf.keras.layers.Dense(20, activation='relu'),\n",
        "    tf.keras.layers.Dropout(0.4),\n",
        "    tf.keras.layers.Dense(10, activation='relu'),\n",
        "    tf.keras.layers.Dense(NUM_CLASSES, activation='softmax')\n",
        "])"
      ]
    },
    {
      "cell_type": "code",
      "execution_count": 26,
      "metadata": {
        "colab": {
          "base_uri": "https://localhost:8080/"
        },
        "id": "ypqky9tc9hE1",
        "outputId": "5db082bb-30e3-4110-bf63-a1ee777ecd46"
      },
      "outputs": [
        {
          "name": "stdout",
          "output_type": "stream",
          "text": [
            "Model: \"sequential_1\"\n",
            "_________________________________________________________________\n",
            " Layer (type)                Output Shape              Param #   \n",
            "=================================================================\n",
            " dropout_2 (Dropout)         (None, 42)                0         \n",
            "                                                                 \n",
            " dense_3 (Dense)             (None, 20)                860       \n",
            "                                                                 \n",
            " dropout_3 (Dropout)         (None, 20)                0         \n",
            "                                                                 \n",
            " dense_4 (Dense)             (None, 10)                210       \n",
            "                                                                 \n",
            " dense_5 (Dense)             (None, 5)                 55        \n",
            "                                                                 \n",
            "=================================================================\n",
            "Total params: 1125 (4.39 KB)\n",
            "Trainable params: 1125 (4.39 KB)\n",
            "Non-trainable params: 0 (0.00 Byte)\n",
            "_________________________________________________________________\n"
          ]
        }
      ],
      "source": [
        "model.summary()"
      ]
    },
    {
      "cell_type": "code",
      "execution_count": 27,
      "metadata": {
        "id": "MbMjOflQ9hE1"
      },
      "outputs": [],
      "source": [
        "# Model checkpoint callback\n",
        "cp_callback = tf.keras.callbacks.ModelCheckpoint(\n",
        "    model_save_path, verbose=1, save_weights_only=False)\n",
        "# Callback for early stopping\n",
        "es_callback = tf.keras.callbacks.EarlyStopping(patience=20, verbose=1)"
      ]
    },
    {
      "cell_type": "code",
      "execution_count": 28,
      "metadata": {
        "id": "c3Dac0M_9hE2"
      },
      "outputs": [],
      "source": [
        "# Model compilation\n",
        "model.compile(\n",
        "    optimizer='adam',\n",
        "    loss='sparse_categorical_crossentropy',\n",
        "    metrics=['accuracy']\n",
        ")"
      ]
    },
    {
      "cell_type": "markdown",
      "metadata": {
        "id": "7XI0j1Iu9hE2"
      },
      "source": [
        "# Model training"
      ]
    },
    {
      "cell_type": "code",
      "execution_count": 29,
      "metadata": {
        "colab": {
          "base_uri": "https://localhost:8080/"
        },
        "id": "WirBl-JE9hE3",
        "outputId": "71b30ca2-8294-4d9d-8aa2-800d90d399de",
        "scrolled": true
      },
      "outputs": [
        {
          "name": "stdout",
          "output_type": "stream",
          "text": [
            "Epoch 1/200\n",
            "1/8 [==>...........................] - ETA: 4s - loss: 1.7564 - accuracy: 0.2109\n",
            "Epoch 1: saving model to model\\hand_gesture_classifier\n",
            "INFO:tensorflow:Assets written to: model\\hand_gesture_classifier\\assets\n"
          ]
        },
        {
          "name": "stderr",
          "output_type": "stream",
          "text": [
            "INFO:tensorflow:Assets written to: model\\hand_gesture_classifier\\assets\n"
          ]
        },
        {
          "name": "stdout",
          "output_type": "stream",
          "text": [
            "8/8 [==============================] - 1s 95ms/step - loss: 1.7322 - accuracy: 0.2337 - val_loss: 1.6573 - val_accuracy: 0.2276\n",
            "Epoch 2/200\n",
            "1/8 [==>...........................] - ETA: 0s - loss: 1.7447 - accuracy: 0.2031\n",
            "Epoch 2: saving model to model\\hand_gesture_classifier\n",
            "INFO:tensorflow:Assets written to: model\\hand_gesture_classifier\\assets\n"
          ]
        },
        {
          "name": "stderr",
          "output_type": "stream",
          "text": [
            "INFO:tensorflow:Assets written to: model\\hand_gesture_classifier\\assets\n"
          ]
        },
        {
          "name": "stdout",
          "output_type": "stream",
          "text": [
            "8/8 [==============================] - 1s 77ms/step - loss: 1.6574 - accuracy: 0.2605 - val_loss: 1.6009 - val_accuracy: 0.3173\n",
            "Epoch 3/200\n",
            "1/8 [==>...........................] - ETA: 0s - loss: 1.6517 - accuracy: 0.2500\n",
            "Epoch 3: saving model to model\\hand_gesture_classifier\n",
            "INFO:tensorflow:Assets written to: model\\hand_gesture_classifier\\assets\n"
          ]
        },
        {
          "name": "stderr",
          "output_type": "stream",
          "text": [
            "INFO:tensorflow:Assets written to: model\\hand_gesture_classifier\\assets\n"
          ]
        },
        {
          "name": "stdout",
          "output_type": "stream",
          "text": [
            "8/8 [==============================] - 1s 88ms/step - loss: 1.6197 - accuracy: 0.2840 - val_loss: 1.5562 - val_accuracy: 0.3526\n",
            "Epoch 4/200\n",
            "1/8 [==>...........................] - ETA: 0s - loss: 1.5841 - accuracy: 0.3516\n",
            "Epoch 4: saving model to model\\hand_gesture_classifier\n",
            "INFO:tensorflow:Assets written to: model\\hand_gesture_classifier\\assets\n"
          ]
        },
        {
          "name": "stderr",
          "output_type": "stream",
          "text": [
            "INFO:tensorflow:Assets written to: model\\hand_gesture_classifier\\assets\n"
          ]
        },
        {
          "name": "stdout",
          "output_type": "stream",
          "text": [
            "8/8 [==============================] - 1s 75ms/step - loss: 1.5664 - accuracy: 0.3087 - val_loss: 1.5150 - val_accuracy: 0.4006\n",
            "Epoch 5/200\n",
            "1/8 [==>...........................] - ETA: 0s - loss: 1.4877 - accuracy: 0.3672\n",
            "Epoch 5: saving model to model\\hand_gesture_classifier\n",
            "INFO:tensorflow:Assets written to: model\\hand_gesture_classifier\\assets\n"
          ]
        },
        {
          "name": "stderr",
          "output_type": "stream",
          "text": [
            "INFO:tensorflow:Assets written to: model\\hand_gesture_classifier\\assets\n"
          ]
        },
        {
          "name": "stdout",
          "output_type": "stream",
          "text": [
            "8/8 [==============================] - 1s 125ms/step - loss: 1.5390 - accuracy: 0.3237 - val_loss: 1.4729 - val_accuracy: 0.4135\n",
            "Epoch 6/200\n",
            "1/8 [==>...........................] - ETA: 0s - loss: 1.5005 - accuracy: 0.3594\n",
            "Epoch 6: saving model to model\\hand_gesture_classifier\n",
            "INFO:tensorflow:Assets written to: model\\hand_gesture_classifier\\assets\n"
          ]
        },
        {
          "name": "stderr",
          "output_type": "stream",
          "text": [
            "INFO:tensorflow:Assets written to: model\\hand_gesture_classifier\\assets\n"
          ]
        },
        {
          "name": "stdout",
          "output_type": "stream",
          "text": [
            "8/8 [==============================] - 1s 85ms/step - loss: 1.4919 - accuracy: 0.3558 - val_loss: 1.4273 - val_accuracy: 0.4231\n",
            "Epoch 7/200\n",
            "1/8 [==>...........................] - ETA: 0s - loss: 1.4179 - accuracy: 0.4141\n",
            "Epoch 7: saving model to model\\hand_gesture_classifier\n",
            "INFO:tensorflow:Assets written to: model\\hand_gesture_classifier\\assets\n"
          ]
        },
        {
          "name": "stderr",
          "output_type": "stream",
          "text": [
            "INFO:tensorflow:Assets written to: model\\hand_gesture_classifier\\assets\n"
          ]
        },
        {
          "name": "stdout",
          "output_type": "stream",
          "text": [
            "8/8 [==============================] - 1s 85ms/step - loss: 1.4552 - accuracy: 0.3859 - val_loss: 1.3764 - val_accuracy: 0.4583\n",
            "Epoch 8/200\n",
            "1/8 [==>...........................] - ETA: 0s - loss: 1.4597 - accuracy: 0.3281\n",
            "Epoch 8: saving model to model\\hand_gesture_classifier\n",
            "INFO:tensorflow:Assets written to: model\\hand_gesture_classifier\\assets\n"
          ]
        },
        {
          "name": "stderr",
          "output_type": "stream",
          "text": [
            "INFO:tensorflow:Assets written to: model\\hand_gesture_classifier\\assets\n"
          ]
        },
        {
          "name": "stdout",
          "output_type": "stream",
          "text": [
            "8/8 [==============================] - 1s 81ms/step - loss: 1.4212 - accuracy: 0.3783 - val_loss: 1.3228 - val_accuracy: 0.4840\n",
            "Epoch 9/200\n",
            "1/8 [==>...........................] - ETA: 0s - loss: 1.4129 - accuracy: 0.3750\n",
            "Epoch 9: saving model to model\\hand_gesture_classifier\n",
            "INFO:tensorflow:Assets written to: model\\hand_gesture_classifier\\assets\n"
          ]
        },
        {
          "name": "stderr",
          "output_type": "stream",
          "text": [
            "INFO:tensorflow:Assets written to: model\\hand_gesture_classifier\\assets\n"
          ]
        },
        {
          "name": "stdout",
          "output_type": "stream",
          "text": [
            "8/8 [==============================] - 1s 76ms/step - loss: 1.3733 - accuracy: 0.4202 - val_loss: 1.2622 - val_accuracy: 0.4808\n",
            "Epoch 10/200\n",
            "1/8 [==>...........................] - ETA: 0s - loss: 1.3865 - accuracy: 0.4219\n",
            "Epoch 10: saving model to model\\hand_gesture_classifier\n",
            "INFO:tensorflow:Assets written to: model\\hand_gesture_classifier\\assets\n"
          ]
        },
        {
          "name": "stderr",
          "output_type": "stream",
          "text": [
            "INFO:tensorflow:Assets written to: model\\hand_gesture_classifier\\assets\n"
          ]
        },
        {
          "name": "stdout",
          "output_type": "stream",
          "text": [
            "8/8 [==============================] - 1s 74ms/step - loss: 1.3444 - accuracy: 0.4266 - val_loss: 1.2023 - val_accuracy: 0.5160\n",
            "Epoch 11/200\n",
            "1/8 [==>...........................] - ETA: 0s - loss: 1.3356 - accuracy: 0.4062\n",
            "Epoch 11: saving model to model\\hand_gesture_classifier\n",
            "INFO:tensorflow:Assets written to: model\\hand_gesture_classifier\\assets\n"
          ]
        },
        {
          "name": "stderr",
          "output_type": "stream",
          "text": [
            "INFO:tensorflow:Assets written to: model\\hand_gesture_classifier\\assets\n"
          ]
        },
        {
          "name": "stdout",
          "output_type": "stream",
          "text": [
            "8/8 [==============================] - 1s 72ms/step - loss: 1.3014 - accuracy: 0.4341 - val_loss: 1.1512 - val_accuracy: 0.5769\n",
            "Epoch 12/200\n",
            "1/8 [==>...........................] - ETA: 0s - loss: 1.2488 - accuracy: 0.4688\n",
            "Epoch 12: saving model to model\\hand_gesture_classifier\n",
            "INFO:tensorflow:Assets written to: model\\hand_gesture_classifier\\assets\n"
          ]
        },
        {
          "name": "stderr",
          "output_type": "stream",
          "text": [
            "INFO:tensorflow:Assets written to: model\\hand_gesture_classifier\\assets\n"
          ]
        },
        {
          "name": "stdout",
          "output_type": "stream",
          "text": [
            "8/8 [==============================] - 1s 74ms/step - loss: 1.2649 - accuracy: 0.4523 - val_loss: 1.1111 - val_accuracy: 0.5737\n",
            "Epoch 13/200\n",
            "1/8 [==>...........................] - ETA: 0s - loss: 1.2011 - accuracy: 0.5156\n",
            "Epoch 13: saving model to model\\hand_gesture_classifier\n",
            "INFO:tensorflow:Assets written to: model\\hand_gesture_classifier\\assets\n"
          ]
        },
        {
          "name": "stderr",
          "output_type": "stream",
          "text": [
            "INFO:tensorflow:Assets written to: model\\hand_gesture_classifier\\assets\n"
          ]
        },
        {
          "name": "stdout",
          "output_type": "stream",
          "text": [
            "8/8 [==============================] - 1s 101ms/step - loss: 1.2275 - accuracy: 0.4834 - val_loss: 1.0767 - val_accuracy: 0.5609\n",
            "Epoch 14/200\n",
            "1/8 [==>...........................] - ETA: 0s - loss: 1.2410 - accuracy: 0.4688\n",
            "Epoch 14: saving model to model\\hand_gesture_classifier\n",
            "INFO:tensorflow:Assets written to: model\\hand_gesture_classifier\\assets\n"
          ]
        },
        {
          "name": "stderr",
          "output_type": "stream",
          "text": [
            "INFO:tensorflow:Assets written to: model\\hand_gesture_classifier\\assets\n"
          ]
        },
        {
          "name": "stdout",
          "output_type": "stream",
          "text": [
            "8/8 [==============================] - 1s 83ms/step - loss: 1.1803 - accuracy: 0.4973 - val_loss: 1.0454 - val_accuracy: 0.5577\n",
            "Epoch 15/200\n",
            "1/8 [==>...........................] - ETA: 0s - loss: 1.2016 - accuracy: 0.5156\n",
            "Epoch 15: saving model to model\\hand_gesture_classifier\n",
            "INFO:tensorflow:Assets written to: model\\hand_gesture_classifier\\assets\n"
          ]
        },
        {
          "name": "stderr",
          "output_type": "stream",
          "text": [
            "INFO:tensorflow:Assets written to: model\\hand_gesture_classifier\\assets\n"
          ]
        },
        {
          "name": "stdout",
          "output_type": "stream",
          "text": [
            "8/8 [==============================] - 1s 78ms/step - loss: 1.1805 - accuracy: 0.4855 - val_loss: 1.0145 - val_accuracy: 0.5577\n",
            "Epoch 16/200\n",
            "1/8 [==>...........................] - ETA: 0s - loss: 1.0723 - accuracy: 0.5781\n",
            "Epoch 16: saving model to model\\hand_gesture_classifier\n",
            "INFO:tensorflow:Assets written to: model\\hand_gesture_classifier\\assets\n"
          ]
        },
        {
          "name": "stderr",
          "output_type": "stream",
          "text": [
            "INFO:tensorflow:Assets written to: model\\hand_gesture_classifier\\assets\n"
          ]
        },
        {
          "name": "stdout",
          "output_type": "stream",
          "text": [
            "8/8 [==============================] - 1s 76ms/step - loss: 1.1220 - accuracy: 0.5209 - val_loss: 0.9842 - val_accuracy: 0.5577\n",
            "Epoch 17/200\n",
            "1/8 [==>...........................] - ETA: 0s - loss: 1.0843 - accuracy: 0.4844\n",
            "Epoch 17: saving model to model\\hand_gesture_classifier\n",
            "INFO:tensorflow:Assets written to: model\\hand_gesture_classifier\\assets\n"
          ]
        },
        {
          "name": "stderr",
          "output_type": "stream",
          "text": [
            "INFO:tensorflow:Assets written to: model\\hand_gesture_classifier\\assets\n"
          ]
        },
        {
          "name": "stdout",
          "output_type": "stream",
          "text": [
            "8/8 [==============================] - 1s 112ms/step - loss: 1.1022 - accuracy: 0.5123 - val_loss: 0.9592 - val_accuracy: 0.5769\n",
            "Epoch 18/200\n",
            "1/8 [==>...........................] - ETA: 0s - loss: 1.0723 - accuracy: 0.5234\n",
            "Epoch 18: saving model to model\\hand_gesture_classifier\n",
            "INFO:tensorflow:Assets written to: model\\hand_gesture_classifier\\assets\n"
          ]
        },
        {
          "name": "stderr",
          "output_type": "stream",
          "text": [
            "INFO:tensorflow:Assets written to: model\\hand_gesture_classifier\\assets\n"
          ]
        },
        {
          "name": "stdout",
          "output_type": "stream",
          "text": [
            "8/8 [==============================] - 1s 85ms/step - loss: 1.1048 - accuracy: 0.5038 - val_loss: 0.9358 - val_accuracy: 0.5609\n",
            "Epoch 19/200\n",
            "1/8 [==>...........................] - ETA: 0s - loss: 1.0083 - accuracy: 0.5625\n",
            "Epoch 19: saving model to model\\hand_gesture_classifier\n",
            "INFO:tensorflow:Assets written to: model\\hand_gesture_classifier\\assets\n"
          ]
        },
        {
          "name": "stderr",
          "output_type": "stream",
          "text": [
            "INFO:tensorflow:Assets written to: model\\hand_gesture_classifier\\assets\n"
          ]
        },
        {
          "name": "stdout",
          "output_type": "stream",
          "text": [
            "8/8 [==============================] - 1s 79ms/step - loss: 1.0752 - accuracy: 0.5380 - val_loss: 0.9159 - val_accuracy: 0.5641\n",
            "Epoch 20/200\n",
            "1/8 [==>...........................] - ETA: 0s - loss: 1.0642 - accuracy: 0.5000\n",
            "Epoch 20: saving model to model\\hand_gesture_classifier\n",
            "INFO:tensorflow:Assets written to: model\\hand_gesture_classifier\\assets\n"
          ]
        },
        {
          "name": "stderr",
          "output_type": "stream",
          "text": [
            "INFO:tensorflow:Assets written to: model\\hand_gesture_classifier\\assets\n"
          ]
        },
        {
          "name": "stdout",
          "output_type": "stream",
          "text": [
            "8/8 [==============================] - 1s 77ms/step - loss: 1.0641 - accuracy: 0.5402 - val_loss: 0.9006 - val_accuracy: 0.5769\n",
            "Epoch 21/200\n",
            "1/8 [==>...........................] - ETA: 0s - loss: 1.0682 - accuracy: 0.5312\n",
            "Epoch 21: saving model to model\\hand_gesture_classifier\n",
            "INFO:tensorflow:Assets written to: model\\hand_gesture_classifier\\assets\n"
          ]
        },
        {
          "name": "stderr",
          "output_type": "stream",
          "text": [
            "INFO:tensorflow:Assets written to: model\\hand_gesture_classifier\\assets\n"
          ]
        },
        {
          "name": "stdout",
          "output_type": "stream",
          "text": [
            "8/8 [==============================] - 1s 100ms/step - loss: 1.0469 - accuracy: 0.5380 - val_loss: 0.8835 - val_accuracy: 0.5801\n",
            "Epoch 22/200\n",
            "1/8 [==>...........................] - ETA: 0s - loss: 0.9978 - accuracy: 0.5469\n",
            "Epoch 22: saving model to model\\hand_gesture_classifier\n",
            "INFO:tensorflow:Assets written to: model\\hand_gesture_classifier\\assets\n"
          ]
        },
        {
          "name": "stderr",
          "output_type": "stream",
          "text": [
            "INFO:tensorflow:Assets written to: model\\hand_gesture_classifier\\assets\n"
          ]
        },
        {
          "name": "stdout",
          "output_type": "stream",
          "text": [
            "8/8 [==============================] - 1s 81ms/step - loss: 1.0242 - accuracy: 0.5380 - val_loss: 0.8664 - val_accuracy: 0.5929\n",
            "Epoch 23/200\n",
            "1/8 [==>...........................] - ETA: 0s - loss: 0.9442 - accuracy: 0.5859\n",
            "Epoch 23: saving model to model\\hand_gesture_classifier\n",
            "INFO:tensorflow:Assets written to: model\\hand_gesture_classifier\\assets\n"
          ]
        },
        {
          "name": "stderr",
          "output_type": "stream",
          "text": [
            "INFO:tensorflow:Assets written to: model\\hand_gesture_classifier\\assets\n"
          ]
        },
        {
          "name": "stdout",
          "output_type": "stream",
          "text": [
            "8/8 [==============================] - 1s 80ms/step - loss: 1.0244 - accuracy: 0.5466 - val_loss: 0.8492 - val_accuracy: 0.5962\n",
            "Epoch 24/200\n",
            "1/8 [==>...........................] - ETA: 0s - loss: 1.0193 - accuracy: 0.5781\n",
            "Epoch 24: saving model to model\\hand_gesture_classifier\n",
            "INFO:tensorflow:Assets written to: model\\hand_gesture_classifier\\assets\n"
          ]
        },
        {
          "name": "stderr",
          "output_type": "stream",
          "text": [
            "INFO:tensorflow:Assets written to: model\\hand_gesture_classifier\\assets\n"
          ]
        },
        {
          "name": "stdout",
          "output_type": "stream",
          "text": [
            "8/8 [==============================] - 1s 83ms/step - loss: 0.9750 - accuracy: 0.5841 - val_loss: 0.8337 - val_accuracy: 0.6122\n",
            "Epoch 25/200\n",
            "1/8 [==>...........................] - ETA: 0s - loss: 0.9783 - accuracy: 0.6172\n",
            "Epoch 25: saving model to model\\hand_gesture_classifier\n",
            "INFO:tensorflow:Assets written to: model\\hand_gesture_classifier\\assets\n"
          ]
        },
        {
          "name": "stderr",
          "output_type": "stream",
          "text": [
            "INFO:tensorflow:Assets written to: model\\hand_gesture_classifier\\assets\n"
          ]
        },
        {
          "name": "stdout",
          "output_type": "stream",
          "text": [
            "8/8 [==============================] - 1s 87ms/step - loss: 1.0015 - accuracy: 0.5648 - val_loss: 0.8160 - val_accuracy: 0.6346\n",
            "Epoch 26/200\n",
            "1/8 [==>...........................] - ETA: 0s - loss: 0.9874 - accuracy: 0.5312\n",
            "Epoch 26: saving model to model\\hand_gesture_classifier\n",
            "INFO:tensorflow:Assets written to: model\\hand_gesture_classifier\\assets\n"
          ]
        },
        {
          "name": "stderr",
          "output_type": "stream",
          "text": [
            "INFO:tensorflow:Assets written to: model\\hand_gesture_classifier\\assets\n"
          ]
        },
        {
          "name": "stdout",
          "output_type": "stream",
          "text": [
            "8/8 [==============================] - 1s 79ms/step - loss: 0.9647 - accuracy: 0.5809 - val_loss: 0.7970 - val_accuracy: 0.7019\n",
            "Epoch 27/200\n",
            "1/8 [==>...........................] - ETA: 0s - loss: 1.0376 - accuracy: 0.5391\n",
            "Epoch 27: saving model to model\\hand_gesture_classifier\n",
            "INFO:tensorflow:Assets written to: model\\hand_gesture_classifier\\assets\n"
          ]
        },
        {
          "name": "stderr",
          "output_type": "stream",
          "text": [
            "INFO:tensorflow:Assets written to: model\\hand_gesture_classifier\\assets\n"
          ]
        },
        {
          "name": "stdout",
          "output_type": "stream",
          "text": [
            "8/8 [==============================] - 1s 77ms/step - loss: 0.9672 - accuracy: 0.5895 - val_loss: 0.7830 - val_accuracy: 0.7179\n",
            "Epoch 28/200\n",
            "1/8 [==>...........................] - ETA: 0s - loss: 0.9235 - accuracy: 0.6328\n",
            "Epoch 28: saving model to model\\hand_gesture_classifier\n",
            "INFO:tensorflow:Assets written to: model\\hand_gesture_classifier\\assets\n"
          ]
        },
        {
          "name": "stderr",
          "output_type": "stream",
          "text": [
            "INFO:tensorflow:Assets written to: model\\hand_gesture_classifier\\assets\n"
          ]
        },
        {
          "name": "stdout",
          "output_type": "stream",
          "text": [
            "8/8 [==============================] - 1s 96ms/step - loss: 0.9530 - accuracy: 0.5927 - val_loss: 0.7713 - val_accuracy: 0.7308\n",
            "Epoch 29/200\n",
            "1/8 [==>...........................] - ETA: 0s - loss: 1.0059 - accuracy: 0.5625\n",
            "Epoch 29: saving model to model\\hand_gesture_classifier\n",
            "INFO:tensorflow:Assets written to: model\\hand_gesture_classifier\\assets\n"
          ]
        },
        {
          "name": "stderr",
          "output_type": "stream",
          "text": [
            "INFO:tensorflow:Assets written to: model\\hand_gesture_classifier\\assets\n"
          ]
        },
        {
          "name": "stdout",
          "output_type": "stream",
          "text": [
            "8/8 [==============================] - 1s 105ms/step - loss: 0.9405 - accuracy: 0.5820 - val_loss: 0.7604 - val_accuracy: 0.7276\n",
            "Epoch 30/200\n",
            "1/8 [==>...........................] - ETA: 0s - loss: 0.9333 - accuracy: 0.5859\n",
            "Epoch 30: saving model to model\\hand_gesture_classifier\n",
            "INFO:tensorflow:Assets written to: model\\hand_gesture_classifier\\assets\n"
          ]
        },
        {
          "name": "stderr",
          "output_type": "stream",
          "text": [
            "INFO:tensorflow:Assets written to: model\\hand_gesture_classifier\\assets\n"
          ]
        },
        {
          "name": "stdout",
          "output_type": "stream",
          "text": [
            "8/8 [==============================] - 1s 76ms/step - loss: 0.9199 - accuracy: 0.6077 - val_loss: 0.7486 - val_accuracy: 0.7372\n",
            "Epoch 31/200\n",
            "1/8 [==>...........................] - ETA: 0s - loss: 0.9790 - accuracy: 0.6562\n",
            "Epoch 31: saving model to model\\hand_gesture_classifier\n",
            "INFO:tensorflow:Assets written to: model\\hand_gesture_classifier\\assets\n"
          ]
        },
        {
          "name": "stderr",
          "output_type": "stream",
          "text": [
            "INFO:tensorflow:Assets written to: model\\hand_gesture_classifier\\assets\n"
          ]
        },
        {
          "name": "stdout",
          "output_type": "stream",
          "text": [
            "8/8 [==============================] - 1s 82ms/step - loss: 0.9174 - accuracy: 0.6238 - val_loss: 0.7382 - val_accuracy: 0.7436\n",
            "Epoch 32/200\n",
            "1/8 [==>...........................] - ETA: 0s - loss: 0.8887 - accuracy: 0.6016\n",
            "Epoch 32: saving model to model\\hand_gesture_classifier\n",
            "INFO:tensorflow:Assets written to: model\\hand_gesture_classifier\\assets\n"
          ]
        },
        {
          "name": "stderr",
          "output_type": "stream",
          "text": [
            "INFO:tensorflow:Assets written to: model\\hand_gesture_classifier\\assets\n"
          ]
        },
        {
          "name": "stdout",
          "output_type": "stream",
          "text": [
            "8/8 [==============================] - 1s 78ms/step - loss: 0.9075 - accuracy: 0.6120 - val_loss: 0.7252 - val_accuracy: 0.7564\n",
            "Epoch 33/200\n",
            "1/8 [==>...........................] - ETA: 0s - loss: 0.9172 - accuracy: 0.5938\n",
            "Epoch 33: saving model to model\\hand_gesture_classifier\n",
            "INFO:tensorflow:Assets written to: model\\hand_gesture_classifier\\assets\n"
          ]
        },
        {
          "name": "stderr",
          "output_type": "stream",
          "text": [
            "INFO:tensorflow:Assets written to: model\\hand_gesture_classifier\\assets\n"
          ]
        },
        {
          "name": "stdout",
          "output_type": "stream",
          "text": [
            "8/8 [==============================] - 1s 86ms/step - loss: 0.9068 - accuracy: 0.6184 - val_loss: 0.7109 - val_accuracy: 0.7628\n",
            "Epoch 34/200\n",
            "1/8 [==>...........................] - ETA: 0s - loss: 0.8158 - accuracy: 0.6562\n",
            "Epoch 34: saving model to model\\hand_gesture_classifier\n",
            "INFO:tensorflow:Assets written to: model\\hand_gesture_classifier\\assets\n"
          ]
        },
        {
          "name": "stderr",
          "output_type": "stream",
          "text": [
            "INFO:tensorflow:Assets written to: model\\hand_gesture_classifier\\assets\n"
          ]
        },
        {
          "name": "stdout",
          "output_type": "stream",
          "text": [
            "8/8 [==============================] - 1s 79ms/step - loss: 0.8688 - accuracy: 0.6259 - val_loss: 0.6941 - val_accuracy: 0.7756\n",
            "Epoch 35/200\n",
            "1/8 [==>...........................] - ETA: 0s - loss: 0.9549 - accuracy: 0.6328\n",
            "Epoch 35: saving model to model\\hand_gesture_classifier\n",
            "INFO:tensorflow:Assets written to: model\\hand_gesture_classifier\\assets\n"
          ]
        },
        {
          "name": "stderr",
          "output_type": "stream",
          "text": [
            "INFO:tensorflow:Assets written to: model\\hand_gesture_classifier\\assets\n"
          ]
        },
        {
          "name": "stdout",
          "output_type": "stream",
          "text": [
            "8/8 [==============================] - 1s 80ms/step - loss: 0.8646 - accuracy: 0.6506 - val_loss: 0.6751 - val_accuracy: 0.7981\n",
            "Epoch 36/200\n",
            "1/8 [==>...........................] - ETA: 0s - loss: 0.8475 - accuracy: 0.6953\n",
            "Epoch 36: saving model to model\\hand_gesture_classifier\n",
            "INFO:tensorflow:Assets written to: model\\hand_gesture_classifier\\assets\n"
          ]
        },
        {
          "name": "stderr",
          "output_type": "stream",
          "text": [
            "INFO:tensorflow:Assets written to: model\\hand_gesture_classifier\\assets\n"
          ]
        },
        {
          "name": "stdout",
          "output_type": "stream",
          "text": [
            "8/8 [==============================] - 1s 81ms/step - loss: 0.8713 - accuracy: 0.6292 - val_loss: 0.6594 - val_accuracy: 0.8013\n",
            "Epoch 37/200\n",
            "1/8 [==>...........................] - ETA: 0s - loss: 0.8699 - accuracy: 0.6250\n",
            "Epoch 37: saving model to model\\hand_gesture_classifier\n",
            "INFO:tensorflow:Assets written to: model\\hand_gesture_classifier\\assets\n"
          ]
        },
        {
          "name": "stderr",
          "output_type": "stream",
          "text": [
            "INFO:tensorflow:Assets written to: model\\hand_gesture_classifier\\assets\n"
          ]
        },
        {
          "name": "stdout",
          "output_type": "stream",
          "text": [
            "8/8 [==============================] - 1s 101ms/step - loss: 0.8439 - accuracy: 0.6495 - val_loss: 0.6457 - val_accuracy: 0.7981\n",
            "Epoch 38/200\n",
            "1/8 [==>...........................] - ETA: 0s - loss: 0.8404 - accuracy: 0.6641\n",
            "Epoch 38: saving model to model\\hand_gesture_classifier\n",
            "INFO:tensorflow:Assets written to: model\\hand_gesture_classifier\\assets\n"
          ]
        },
        {
          "name": "stderr",
          "output_type": "stream",
          "text": [
            "INFO:tensorflow:Assets written to: model\\hand_gesture_classifier\\assets\n"
          ]
        },
        {
          "name": "stdout",
          "output_type": "stream",
          "text": [
            "8/8 [==============================] - 1s 73ms/step - loss: 0.8698 - accuracy: 0.6259 - val_loss: 0.6392 - val_accuracy: 0.7981\n",
            "Epoch 39/200\n",
            "1/8 [==>...........................] - ETA: 0s - loss: 0.7075 - accuracy: 0.7188\n",
            "Epoch 39: saving model to model\\hand_gesture_classifier\n",
            "INFO:tensorflow:Assets written to: model\\hand_gesture_classifier\\assets\n"
          ]
        },
        {
          "name": "stderr",
          "output_type": "stream",
          "text": [
            "INFO:tensorflow:Assets written to: model\\hand_gesture_classifier\\assets\n"
          ]
        },
        {
          "name": "stdout",
          "output_type": "stream",
          "text": [
            "8/8 [==============================] - 1s 82ms/step - loss: 0.8045 - accuracy: 0.6752 - val_loss: 0.6296 - val_accuracy: 0.8013\n",
            "Epoch 40/200\n",
            "1/8 [==>...........................] - ETA: 0s - loss: 0.7718 - accuracy: 0.6875\n",
            "Epoch 40: saving model to model\\hand_gesture_classifier\n",
            "INFO:tensorflow:Assets written to: model\\hand_gesture_classifier\\assets\n"
          ]
        },
        {
          "name": "stderr",
          "output_type": "stream",
          "text": [
            "INFO:tensorflow:Assets written to: model\\hand_gesture_classifier\\assets\n"
          ]
        },
        {
          "name": "stdout",
          "output_type": "stream",
          "text": [
            "8/8 [==============================] - 1s 75ms/step - loss: 0.7809 - accuracy: 0.6902 - val_loss: 0.6131 - val_accuracy: 0.8109\n",
            "Epoch 41/200\n",
            "1/8 [==>...........................] - ETA: 0s - loss: 0.8478 - accuracy: 0.6406\n",
            "Epoch 41: saving model to model\\hand_gesture_classifier\n",
            "INFO:tensorflow:Assets written to: model\\hand_gesture_classifier\\assets\n"
          ]
        },
        {
          "name": "stderr",
          "output_type": "stream",
          "text": [
            "INFO:tensorflow:Assets written to: model\\hand_gesture_classifier\\assets\n"
          ]
        },
        {
          "name": "stdout",
          "output_type": "stream",
          "text": [
            "8/8 [==============================] - 1s 82ms/step - loss: 0.8304 - accuracy: 0.6527 - val_loss: 0.5976 - val_accuracy: 0.8205\n",
            "Epoch 42/200\n",
            "1/8 [==>...........................] - ETA: 0s - loss: 0.8301 - accuracy: 0.6797\n",
            "Epoch 42: saving model to model\\hand_gesture_classifier\n",
            "INFO:tensorflow:Assets written to: model\\hand_gesture_classifier\\assets\n"
          ]
        },
        {
          "name": "stderr",
          "output_type": "stream",
          "text": [
            "INFO:tensorflow:Assets written to: model\\hand_gesture_classifier\\assets\n"
          ]
        },
        {
          "name": "stdout",
          "output_type": "stream",
          "text": [
            "8/8 [==============================] - 1s 85ms/step - loss: 0.8001 - accuracy: 0.6624 - val_loss: 0.5814 - val_accuracy: 0.8494\n",
            "Epoch 43/200\n",
            "1/8 [==>...........................] - ETA: 0s - loss: 0.8765 - accuracy: 0.6094\n",
            "Epoch 43: saving model to model\\hand_gesture_classifier\n",
            "INFO:tensorflow:Assets written to: model\\hand_gesture_classifier\\assets\n"
          ]
        },
        {
          "name": "stderr",
          "output_type": "stream",
          "text": [
            "INFO:tensorflow:Assets written to: model\\hand_gesture_classifier\\assets\n"
          ]
        },
        {
          "name": "stdout",
          "output_type": "stream",
          "text": [
            "8/8 [==============================] - 1s 76ms/step - loss: 0.7982 - accuracy: 0.6688 - val_loss: 0.5713 - val_accuracy: 0.8654\n",
            "Epoch 44/200\n",
            "1/8 [==>...........................] - ETA: 0s - loss: 0.8261 - accuracy: 0.6094\n",
            "Epoch 44: saving model to model\\hand_gesture_classifier\n",
            "INFO:tensorflow:Assets written to: model\\hand_gesture_classifier\\assets\n"
          ]
        },
        {
          "name": "stderr",
          "output_type": "stream",
          "text": [
            "INFO:tensorflow:Assets written to: model\\hand_gesture_classifier\\assets\n"
          ]
        },
        {
          "name": "stdout",
          "output_type": "stream",
          "text": [
            "8/8 [==============================] - 1s 79ms/step - loss: 0.8130 - accuracy: 0.6527 - val_loss: 0.5652 - val_accuracy: 0.8526\n",
            "Epoch 45/200\n",
            "1/8 [==>...........................] - ETA: 0s - loss: 0.7728 - accuracy: 0.7188\n",
            "Epoch 45: saving model to model\\hand_gesture_classifier\n",
            "INFO:tensorflow:Assets written to: model\\hand_gesture_classifier\\assets\n"
          ]
        },
        {
          "name": "stderr",
          "output_type": "stream",
          "text": [
            "INFO:tensorflow:Assets written to: model\\hand_gesture_classifier\\assets\n"
          ]
        },
        {
          "name": "stdout",
          "output_type": "stream",
          "text": [
            "8/8 [==============================] - 1s 102ms/step - loss: 0.7908 - accuracy: 0.6742 - val_loss: 0.5570 - val_accuracy: 0.8558\n",
            "Epoch 46/200\n",
            "1/8 [==>...........................] - ETA: 0s - loss: 0.7521 - accuracy: 0.6797\n",
            "Epoch 46: saving model to model\\hand_gesture_classifier\n",
            "INFO:tensorflow:Assets written to: model\\hand_gesture_classifier\\assets\n"
          ]
        },
        {
          "name": "stderr",
          "output_type": "stream",
          "text": [
            "INFO:tensorflow:Assets written to: model\\hand_gesture_classifier\\assets\n"
          ]
        },
        {
          "name": "stdout",
          "output_type": "stream",
          "text": [
            "8/8 [==============================] - 1s 84ms/step - loss: 0.7893 - accuracy: 0.6731 - val_loss: 0.5468 - val_accuracy: 0.8686\n",
            "Epoch 47/200\n",
            "1/8 [==>...........................] - ETA: 0s - loss: 0.7914 - accuracy: 0.6328\n",
            "Epoch 47: saving model to model\\hand_gesture_classifier\n",
            "INFO:tensorflow:Assets written to: model\\hand_gesture_classifier\\assets\n"
          ]
        },
        {
          "name": "stderr",
          "output_type": "stream",
          "text": [
            "INFO:tensorflow:Assets written to: model\\hand_gesture_classifier\\assets\n"
          ]
        },
        {
          "name": "stdout",
          "output_type": "stream",
          "text": [
            "8/8 [==============================] - 1s 77ms/step - loss: 0.7853 - accuracy: 0.6731 - val_loss: 0.5425 - val_accuracy: 0.8686\n",
            "Epoch 48/200\n",
            "1/8 [==>...........................] - ETA: 0s - loss: 0.7594 - accuracy: 0.6719\n",
            "Epoch 48: saving model to model\\hand_gesture_classifier\n",
            "INFO:tensorflow:Assets written to: model\\hand_gesture_classifier\\assets\n"
          ]
        },
        {
          "name": "stderr",
          "output_type": "stream",
          "text": [
            "INFO:tensorflow:Assets written to: model\\hand_gesture_classifier\\assets\n"
          ]
        },
        {
          "name": "stdout",
          "output_type": "stream",
          "text": [
            "8/8 [==============================] - 1s 75ms/step - loss: 0.7954 - accuracy: 0.6570 - val_loss: 0.5395 - val_accuracy: 0.8590\n",
            "Epoch 49/200\n",
            "1/8 [==>...........................] - ETA: 0s - loss: 0.8173 - accuracy: 0.7031\n",
            "Epoch 49: saving model to model\\hand_gesture_classifier\n",
            "INFO:tensorflow:Assets written to: model\\hand_gesture_classifier\\assets\n"
          ]
        },
        {
          "name": "stderr",
          "output_type": "stream",
          "text": [
            "INFO:tensorflow:Assets written to: model\\hand_gesture_classifier\\assets\n"
          ]
        },
        {
          "name": "stdout",
          "output_type": "stream",
          "text": [
            "8/8 [==============================] - 1s 81ms/step - loss: 0.7267 - accuracy: 0.7128 - val_loss: 0.5292 - val_accuracy: 0.8590\n",
            "Epoch 50/200\n",
            "1/8 [==>...........................] - ETA: 0s - loss: 0.7190 - accuracy: 0.7109\n",
            "Epoch 50: saving model to model\\hand_gesture_classifier\n",
            "INFO:tensorflow:Assets written to: model\\hand_gesture_classifier\\assets\n"
          ]
        },
        {
          "name": "stderr",
          "output_type": "stream",
          "text": [
            "INFO:tensorflow:Assets written to: model\\hand_gesture_classifier\\assets\n"
          ]
        },
        {
          "name": "stdout",
          "output_type": "stream",
          "text": [
            "8/8 [==============================] - 1s 81ms/step - loss: 0.7328 - accuracy: 0.6935 - val_loss: 0.5184 - val_accuracy: 0.8622\n",
            "Epoch 51/200\n",
            "1/8 [==>...........................] - ETA: 0s - loss: 0.7696 - accuracy: 0.6641\n",
            "Epoch 51: saving model to model\\hand_gesture_classifier\n",
            "INFO:tensorflow:Assets written to: model\\hand_gesture_classifier\\assets\n"
          ]
        },
        {
          "name": "stderr",
          "output_type": "stream",
          "text": [
            "INFO:tensorflow:Assets written to: model\\hand_gesture_classifier\\assets\n"
          ]
        },
        {
          "name": "stdout",
          "output_type": "stream",
          "text": [
            "8/8 [==============================] - 1s 74ms/step - loss: 0.7303 - accuracy: 0.7181 - val_loss: 0.5063 - val_accuracy: 0.8718\n",
            "Epoch 52/200\n",
            "1/8 [==>...........................] - ETA: 0s - loss: 0.6811 - accuracy: 0.7344\n",
            "Epoch 52: saving model to model\\hand_gesture_classifier\n",
            "INFO:tensorflow:Assets written to: model\\hand_gesture_classifier\\assets\n"
          ]
        },
        {
          "name": "stderr",
          "output_type": "stream",
          "text": [
            "INFO:tensorflow:Assets written to: model\\hand_gesture_classifier\\assets\n"
          ]
        },
        {
          "name": "stdout",
          "output_type": "stream",
          "text": [
            "8/8 [==============================] - 1s 73ms/step - loss: 0.7505 - accuracy: 0.6892 - val_loss: 0.4987 - val_accuracy: 0.8622\n",
            "Epoch 53/200\n",
            "1/8 [==>...........................] - ETA: 0s - loss: 0.7221 - accuracy: 0.6953\n",
            "Epoch 53: saving model to model\\hand_gesture_classifier\n",
            "INFO:tensorflow:Assets written to: model\\hand_gesture_classifier\\assets\n"
          ]
        },
        {
          "name": "stderr",
          "output_type": "stream",
          "text": [
            "INFO:tensorflow:Assets written to: model\\hand_gesture_classifier\\assets\n"
          ]
        },
        {
          "name": "stdout",
          "output_type": "stream",
          "text": [
            "8/8 [==============================] - 1s 100ms/step - loss: 0.7100 - accuracy: 0.7149 - val_loss: 0.4912 - val_accuracy: 0.8558\n",
            "Epoch 54/200\n",
            "1/8 [==>...........................] - ETA: 0s - loss: 0.6918 - accuracy: 0.7031\n",
            "Epoch 54: saving model to model\\hand_gesture_classifier\n",
            "INFO:tensorflow:Assets written to: model\\hand_gesture_classifier\\assets\n"
          ]
        },
        {
          "name": "stderr",
          "output_type": "stream",
          "text": [
            "INFO:tensorflow:Assets written to: model\\hand_gesture_classifier\\assets\n"
          ]
        },
        {
          "name": "stdout",
          "output_type": "stream",
          "text": [
            "8/8 [==============================] - 1s 86ms/step - loss: 0.7221 - accuracy: 0.6924 - val_loss: 0.4839 - val_accuracy: 0.8718\n",
            "Epoch 55/200\n",
            "1/8 [==>...........................] - ETA: 0s - loss: 0.8028 - accuracy: 0.6562\n",
            "Epoch 55: saving model to model\\hand_gesture_classifier\n",
            "INFO:tensorflow:Assets written to: model\\hand_gesture_classifier\\assets\n"
          ]
        },
        {
          "name": "stderr",
          "output_type": "stream",
          "text": [
            "INFO:tensorflow:Assets written to: model\\hand_gesture_classifier\\assets\n"
          ]
        },
        {
          "name": "stdout",
          "output_type": "stream",
          "text": [
            "8/8 [==============================] - 1s 83ms/step - loss: 0.7249 - accuracy: 0.6892 - val_loss: 0.4786 - val_accuracy: 0.8686\n",
            "Epoch 56/200\n",
            "1/8 [==>...........................] - ETA: 0s - loss: 0.6820 - accuracy: 0.6875\n",
            "Epoch 56: saving model to model\\hand_gesture_classifier\n",
            "INFO:tensorflow:Assets written to: model\\hand_gesture_classifier\\assets\n"
          ]
        },
        {
          "name": "stderr",
          "output_type": "stream",
          "text": [
            "INFO:tensorflow:Assets written to: model\\hand_gesture_classifier\\assets\n"
          ]
        },
        {
          "name": "stdout",
          "output_type": "stream",
          "text": [
            "8/8 [==============================] - 1s 81ms/step - loss: 0.7214 - accuracy: 0.6870 - val_loss: 0.4752 - val_accuracy: 0.8686\n",
            "Epoch 57/200\n",
            "1/8 [==>...........................] - ETA: 0s - loss: 0.5918 - accuracy: 0.7734\n",
            "Epoch 57: saving model to model\\hand_gesture_classifier\n",
            "INFO:tensorflow:Assets written to: model\\hand_gesture_classifier\\assets\n"
          ]
        },
        {
          "name": "stderr",
          "output_type": "stream",
          "text": [
            "INFO:tensorflow:Assets written to: model\\hand_gesture_classifier\\assets\n"
          ]
        },
        {
          "name": "stdout",
          "output_type": "stream",
          "text": [
            "8/8 [==============================] - 1s 90ms/step - loss: 0.6997 - accuracy: 0.7074 - val_loss: 0.4674 - val_accuracy: 0.8782\n",
            "Epoch 58/200\n",
            "1/8 [==>...........................] - ETA: 0s - loss: 0.7128 - accuracy: 0.6953\n",
            "Epoch 58: saving model to model\\hand_gesture_classifier\n",
            "INFO:tensorflow:Assets written to: model\\hand_gesture_classifier\\assets\n"
          ]
        },
        {
          "name": "stderr",
          "output_type": "stream",
          "text": [
            "INFO:tensorflow:Assets written to: model\\hand_gesture_classifier\\assets\n"
          ]
        },
        {
          "name": "stdout",
          "output_type": "stream",
          "text": [
            "8/8 [==============================] - 1s 78ms/step - loss: 0.7220 - accuracy: 0.7020 - val_loss: 0.4597 - val_accuracy: 0.8910\n",
            "Epoch 59/200\n",
            "1/8 [==>...........................] - ETA: 0s - loss: 0.7061 - accuracy: 0.7344\n",
            "Epoch 59: saving model to model\\hand_gesture_classifier\n",
            "INFO:tensorflow:Assets written to: model\\hand_gesture_classifier\\assets\n"
          ]
        },
        {
          "name": "stderr",
          "output_type": "stream",
          "text": [
            "INFO:tensorflow:Assets written to: model\\hand_gesture_classifier\\assets\n"
          ]
        },
        {
          "name": "stdout",
          "output_type": "stream",
          "text": [
            "8/8 [==============================] - 1s 80ms/step - loss: 0.6892 - accuracy: 0.7224 - val_loss: 0.4486 - val_accuracy: 0.8942\n",
            "Epoch 60/200\n",
            "1/8 [==>...........................] - ETA: 0s - loss: 0.7561 - accuracy: 0.6484\n",
            "Epoch 60: saving model to model\\hand_gesture_classifier\n",
            "INFO:tensorflow:Assets written to: model\\hand_gesture_classifier\\assets\n"
          ]
        },
        {
          "name": "stderr",
          "output_type": "stream",
          "text": [
            "INFO:tensorflow:Assets written to: model\\hand_gesture_classifier\\assets\n"
          ]
        },
        {
          "name": "stdout",
          "output_type": "stream",
          "text": [
            "8/8 [==============================] - 1s 91ms/step - loss: 0.7051 - accuracy: 0.6881 - val_loss: 0.4413 - val_accuracy: 0.8910\n",
            "Epoch 61/200\n",
            "1/8 [==>...........................] - ETA: 0s - loss: 0.7333 - accuracy: 0.6562\n",
            "Epoch 61: saving model to model\\hand_gesture_classifier\n",
            "INFO:tensorflow:Assets written to: model\\hand_gesture_classifier\\assets\n"
          ]
        },
        {
          "name": "stderr",
          "output_type": "stream",
          "text": [
            "INFO:tensorflow:Assets written to: model\\hand_gesture_classifier\\assets\n"
          ]
        },
        {
          "name": "stdout",
          "output_type": "stream",
          "text": [
            "8/8 [==============================] - 1s 110ms/step - loss: 0.7092 - accuracy: 0.6956 - val_loss: 0.4345 - val_accuracy: 0.9006\n",
            "Epoch 62/200\n",
            "1/8 [==>...........................] - ETA: 0s - loss: 0.7984 - accuracy: 0.6797\n",
            "Epoch 62: saving model to model\\hand_gesture_classifier\n",
            "INFO:tensorflow:Assets written to: model\\hand_gesture_classifier\\assets\n"
          ]
        },
        {
          "name": "stderr",
          "output_type": "stream",
          "text": [
            "INFO:tensorflow:Assets written to: model\\hand_gesture_classifier\\assets\n"
          ]
        },
        {
          "name": "stdout",
          "output_type": "stream",
          "text": [
            "8/8 [==============================] - 1s 82ms/step - loss: 0.7171 - accuracy: 0.6977 - val_loss: 0.4342 - val_accuracy: 0.8910\n",
            "Epoch 63/200\n",
            "1/8 [==>...........................] - ETA: 0s - loss: 0.6494 - accuracy: 0.7578\n",
            "Epoch 63: saving model to model\\hand_gesture_classifier\n",
            "INFO:tensorflow:Assets written to: model\\hand_gesture_classifier\\assets\n"
          ]
        },
        {
          "name": "stderr",
          "output_type": "stream",
          "text": [
            "INFO:tensorflow:Assets written to: model\\hand_gesture_classifier\\assets\n"
          ]
        },
        {
          "name": "stdout",
          "output_type": "stream",
          "text": [
            "8/8 [==============================] - 1s 83ms/step - loss: 0.7109 - accuracy: 0.7053 - val_loss: 0.4327 - val_accuracy: 0.8750\n",
            "Epoch 64/200\n",
            "1/8 [==>...........................] - ETA: 0s - loss: 0.7534 - accuracy: 0.6797\n",
            "Epoch 64: saving model to model\\hand_gesture_classifier\n",
            "INFO:tensorflow:Assets written to: model\\hand_gesture_classifier\\assets\n"
          ]
        },
        {
          "name": "stderr",
          "output_type": "stream",
          "text": [
            "INFO:tensorflow:Assets written to: model\\hand_gesture_classifier\\assets\n"
          ]
        },
        {
          "name": "stdout",
          "output_type": "stream",
          "text": [
            "8/8 [==============================] - 1s 76ms/step - loss: 0.7089 - accuracy: 0.6999 - val_loss: 0.4282 - val_accuracy: 0.9038\n",
            "Epoch 65/200\n",
            "1/8 [==>...........................] - ETA: 0s - loss: 0.6022 - accuracy: 0.7500\n",
            "Epoch 65: saving model to model\\hand_gesture_classifier\n",
            "INFO:tensorflow:Assets written to: model\\hand_gesture_classifier\\assets\n"
          ]
        },
        {
          "name": "stderr",
          "output_type": "stream",
          "text": [
            "INFO:tensorflow:Assets written to: model\\hand_gesture_classifier\\assets\n"
          ]
        },
        {
          "name": "stdout",
          "output_type": "stream",
          "text": [
            "8/8 [==============================] - 1s 77ms/step - loss: 0.6450 - accuracy: 0.7406 - val_loss: 0.4239 - val_accuracy: 0.9071\n",
            "Epoch 66/200\n",
            "1/8 [==>...........................] - ETA: 0s - loss: 0.6649 - accuracy: 0.7031\n",
            "Epoch 66: saving model to model\\hand_gesture_classifier\n",
            "INFO:tensorflow:Assets written to: model\\hand_gesture_classifier\\assets\n"
          ]
        },
        {
          "name": "stderr",
          "output_type": "stream",
          "text": [
            "INFO:tensorflow:Assets written to: model\\hand_gesture_classifier\\assets\n"
          ]
        },
        {
          "name": "stdout",
          "output_type": "stream",
          "text": [
            "8/8 [==============================] - 1s 88ms/step - loss: 0.6999 - accuracy: 0.7063 - val_loss: 0.4176 - val_accuracy: 0.9135\n",
            "Epoch 67/200\n",
            "1/8 [==>...........................] - ETA: 0s - loss: 0.6500 - accuracy: 0.7344\n",
            "Epoch 67: saving model to model\\hand_gesture_classifier\n",
            "INFO:tensorflow:Assets written to: model\\hand_gesture_classifier\\assets\n"
          ]
        },
        {
          "name": "stderr",
          "output_type": "stream",
          "text": [
            "INFO:tensorflow:Assets written to: model\\hand_gesture_classifier\\assets\n"
          ]
        },
        {
          "name": "stdout",
          "output_type": "stream",
          "text": [
            "8/8 [==============================] - 1s 77ms/step - loss: 0.6618 - accuracy: 0.7428 - val_loss: 0.4147 - val_accuracy: 0.9167\n",
            "Epoch 68/200\n",
            "1/8 [==>...........................] - ETA: 0s - loss: 0.6569 - accuracy: 0.7188\n",
            "Epoch 68: saving model to model\\hand_gesture_classifier\n",
            "INFO:tensorflow:Assets written to: model\\hand_gesture_classifier\\assets\n"
          ]
        },
        {
          "name": "stderr",
          "output_type": "stream",
          "text": [
            "INFO:tensorflow:Assets written to: model\\hand_gesture_classifier\\assets\n"
          ]
        },
        {
          "name": "stdout",
          "output_type": "stream",
          "text": [
            "8/8 [==============================] - 1s 81ms/step - loss: 0.6952 - accuracy: 0.7181 - val_loss: 0.4133 - val_accuracy: 0.8910\n",
            "Epoch 69/200\n",
            "1/8 [==>...........................] - ETA: 0s - loss: 0.6697 - accuracy: 0.7500\n",
            "Epoch 69: saving model to model\\hand_gesture_classifier\n",
            "INFO:tensorflow:Assets written to: model\\hand_gesture_classifier\\assets\n"
          ]
        },
        {
          "name": "stderr",
          "output_type": "stream",
          "text": [
            "INFO:tensorflow:Assets written to: model\\hand_gesture_classifier\\assets\n"
          ]
        },
        {
          "name": "stdout",
          "output_type": "stream",
          "text": [
            "8/8 [==============================] - 1s 98ms/step - loss: 0.6541 - accuracy: 0.7438 - val_loss: 0.4089 - val_accuracy: 0.8878\n",
            "Epoch 70/200\n",
            "1/8 [==>...........................] - ETA: 0s - loss: 0.6119 - accuracy: 0.7578\n",
            "Epoch 70: saving model to model\\hand_gesture_classifier\n",
            "INFO:tensorflow:Assets written to: model\\hand_gesture_classifier\\assets\n"
          ]
        },
        {
          "name": "stderr",
          "output_type": "stream",
          "text": [
            "INFO:tensorflow:Assets written to: model\\hand_gesture_classifier\\assets\n"
          ]
        },
        {
          "name": "stdout",
          "output_type": "stream",
          "text": [
            "8/8 [==============================] - 1s 78ms/step - loss: 0.6430 - accuracy: 0.7320 - val_loss: 0.3987 - val_accuracy: 0.8974\n",
            "Epoch 71/200\n",
            "1/8 [==>...........................] - ETA: 0s - loss: 0.7865 - accuracy: 0.6250\n",
            "Epoch 71: saving model to model\\hand_gesture_classifier\n",
            "INFO:tensorflow:Assets written to: model\\hand_gesture_classifier\\assets\n"
          ]
        },
        {
          "name": "stderr",
          "output_type": "stream",
          "text": [
            "INFO:tensorflow:Assets written to: model\\hand_gesture_classifier\\assets\n"
          ]
        },
        {
          "name": "stdout",
          "output_type": "stream",
          "text": [
            "8/8 [==============================] - 1s 71ms/step - loss: 0.6554 - accuracy: 0.7256 - val_loss: 0.3958 - val_accuracy: 0.8974\n",
            "Epoch 72/200\n",
            "1/8 [==>...........................] - ETA: 0s - loss: 0.6201 - accuracy: 0.7656\n",
            "Epoch 72: saving model to model\\hand_gesture_classifier\n",
            "INFO:tensorflow:Assets written to: model\\hand_gesture_classifier\\assets\n"
          ]
        },
        {
          "name": "stderr",
          "output_type": "stream",
          "text": [
            "INFO:tensorflow:Assets written to: model\\hand_gesture_classifier\\assets\n"
          ]
        },
        {
          "name": "stdout",
          "output_type": "stream",
          "text": [
            "8/8 [==============================] - 0s 71ms/step - loss: 0.6525 - accuracy: 0.7224 - val_loss: 0.3913 - val_accuracy: 0.9006\n",
            "Epoch 73/200\n",
            "1/8 [==>...........................] - ETA: 0s - loss: 0.6868 - accuracy: 0.7188\n",
            "Epoch 73: saving model to model\\hand_gesture_classifier\n",
            "INFO:tensorflow:Assets written to: model\\hand_gesture_classifier\\assets\n"
          ]
        },
        {
          "name": "stderr",
          "output_type": "stream",
          "text": [
            "INFO:tensorflow:Assets written to: model\\hand_gesture_classifier\\assets\n"
          ]
        },
        {
          "name": "stdout",
          "output_type": "stream",
          "text": [
            "8/8 [==============================] - 1s 76ms/step - loss: 0.6438 - accuracy: 0.7363 - val_loss: 0.3867 - val_accuracy: 0.9038\n",
            "Epoch 74/200\n",
            "1/8 [==>...........................] - ETA: 0s - loss: 0.5606 - accuracy: 0.7656\n",
            "Epoch 74: saving model to model\\hand_gesture_classifier\n",
            "INFO:tensorflow:Assets written to: model\\hand_gesture_classifier\\assets\n"
          ]
        },
        {
          "name": "stderr",
          "output_type": "stream",
          "text": [
            "INFO:tensorflow:Assets written to: model\\hand_gesture_classifier\\assets\n"
          ]
        },
        {
          "name": "stdout",
          "output_type": "stream",
          "text": [
            "8/8 [==============================] - 1s 77ms/step - loss: 0.6416 - accuracy: 0.7363 - val_loss: 0.3831 - val_accuracy: 0.9038\n",
            "Epoch 75/200\n",
            "1/8 [==>...........................] - ETA: 0s - loss: 0.6170 - accuracy: 0.7578\n",
            "Epoch 75: saving model to model\\hand_gesture_classifier\n",
            "INFO:tensorflow:Assets written to: model\\hand_gesture_classifier\\assets\n"
          ]
        },
        {
          "name": "stderr",
          "output_type": "stream",
          "text": [
            "INFO:tensorflow:Assets written to: model\\hand_gesture_classifier\\assets\n"
          ]
        },
        {
          "name": "stdout",
          "output_type": "stream",
          "text": [
            "8/8 [==============================] - 1s 78ms/step - loss: 0.6334 - accuracy: 0.7546 - val_loss: 0.3791 - val_accuracy: 0.9231\n",
            "Epoch 76/200\n",
            "1/8 [==>...........................] - ETA: 0s - loss: 0.6471 - accuracy: 0.7344\n",
            "Epoch 76: saving model to model\\hand_gesture_classifier\n",
            "INFO:tensorflow:Assets written to: model\\hand_gesture_classifier\\assets\n"
          ]
        },
        {
          "name": "stderr",
          "output_type": "stream",
          "text": [
            "INFO:tensorflow:Assets written to: model\\hand_gesture_classifier\\assets\n"
          ]
        },
        {
          "name": "stdout",
          "output_type": "stream",
          "text": [
            "8/8 [==============================] - 1s 76ms/step - loss: 0.6555 - accuracy: 0.7503 - val_loss: 0.3722 - val_accuracy: 0.9231\n",
            "Epoch 77/200\n",
            "1/8 [==>...........................] - ETA: 0s - loss: 0.5391 - accuracy: 0.7891\n",
            "Epoch 77: saving model to model\\hand_gesture_classifier\n",
            "INFO:tensorflow:Assets written to: model\\hand_gesture_classifier\\assets\n"
          ]
        },
        {
          "name": "stderr",
          "output_type": "stream",
          "text": [
            "INFO:tensorflow:Assets written to: model\\hand_gesture_classifier\\assets\n"
          ]
        },
        {
          "name": "stdout",
          "output_type": "stream",
          "text": [
            "8/8 [==============================] - 1s 91ms/step - loss: 0.6238 - accuracy: 0.7395 - val_loss: 0.3641 - val_accuracy: 0.9167\n",
            "Epoch 78/200\n",
            "1/8 [==>...........................] - ETA: 0s - loss: 0.5633 - accuracy: 0.7734\n",
            "Epoch 78: saving model to model\\hand_gesture_classifier\n",
            "INFO:tensorflow:Assets written to: model\\hand_gesture_classifier\\assets\n"
          ]
        },
        {
          "name": "stderr",
          "output_type": "stream",
          "text": [
            "INFO:tensorflow:Assets written to: model\\hand_gesture_classifier\\assets\n"
          ]
        },
        {
          "name": "stdout",
          "output_type": "stream",
          "text": [
            "8/8 [==============================] - 1s 75ms/step - loss: 0.6237 - accuracy: 0.7438 - val_loss: 0.3629 - val_accuracy: 0.9038\n",
            "Epoch 79/200\n",
            "1/8 [==>...........................] - ETA: 0s - loss: 0.5944 - accuracy: 0.7578\n",
            "Epoch 79: saving model to model\\hand_gesture_classifier\n",
            "INFO:tensorflow:Assets written to: model\\hand_gesture_classifier\\assets\n"
          ]
        },
        {
          "name": "stderr",
          "output_type": "stream",
          "text": [
            "INFO:tensorflow:Assets written to: model\\hand_gesture_classifier\\assets\n"
          ]
        },
        {
          "name": "stdout",
          "output_type": "stream",
          "text": [
            "8/8 [==============================] - 1s 75ms/step - loss: 0.6309 - accuracy: 0.7363 - val_loss: 0.3602 - val_accuracy: 0.9263\n",
            "Epoch 80/200\n",
            "1/8 [==>...........................] - ETA: 0s - loss: 0.5488 - accuracy: 0.8047\n",
            "Epoch 80: saving model to model\\hand_gesture_classifier\n",
            "INFO:tensorflow:Assets written to: model\\hand_gesture_classifier\\assets\n"
          ]
        },
        {
          "name": "stderr",
          "output_type": "stream",
          "text": [
            "INFO:tensorflow:Assets written to: model\\hand_gesture_classifier\\assets\n"
          ]
        },
        {
          "name": "stdout",
          "output_type": "stream",
          "text": [
            "8/8 [==============================] - 1s 73ms/step - loss: 0.6232 - accuracy: 0.7546 - val_loss: 0.3567 - val_accuracy: 0.9295\n",
            "Epoch 81/200\n",
            "1/8 [==>...........................] - ETA: 0s - loss: 0.5550 - accuracy: 0.7812\n",
            "Epoch 81: saving model to model\\hand_gesture_classifier\n",
            "INFO:tensorflow:Assets written to: model\\hand_gesture_classifier\\assets\n"
          ]
        },
        {
          "name": "stderr",
          "output_type": "stream",
          "text": [
            "INFO:tensorflow:Assets written to: model\\hand_gesture_classifier\\assets\n"
          ]
        },
        {
          "name": "stdout",
          "output_type": "stream",
          "text": [
            "8/8 [==============================] - 0s 71ms/step - loss: 0.6279 - accuracy: 0.7417 - val_loss: 0.3532 - val_accuracy: 0.9263\n",
            "Epoch 82/200\n",
            "1/8 [==>...........................] - ETA: 0s - loss: 0.6032 - accuracy: 0.7734\n",
            "Epoch 82: saving model to model\\hand_gesture_classifier\n",
            "INFO:tensorflow:Assets written to: model\\hand_gesture_classifier\\assets\n"
          ]
        },
        {
          "name": "stderr",
          "output_type": "stream",
          "text": [
            "INFO:tensorflow:Assets written to: model\\hand_gesture_classifier\\assets\n"
          ]
        },
        {
          "name": "stdout",
          "output_type": "stream",
          "text": [
            "8/8 [==============================] - 1s 74ms/step - loss: 0.6368 - accuracy: 0.7299 - val_loss: 0.3523 - val_accuracy: 0.9327\n",
            "Epoch 83/200\n",
            "1/8 [==>...........................] - ETA: 0s - loss: 0.6371 - accuracy: 0.7422\n",
            "Epoch 83: saving model to model\\hand_gesture_classifier\n",
            "INFO:tensorflow:Assets written to: model\\hand_gesture_classifier\\assets\n"
          ]
        },
        {
          "name": "stderr",
          "output_type": "stream",
          "text": [
            "INFO:tensorflow:Assets written to: model\\hand_gesture_classifier\\assets\n"
          ]
        },
        {
          "name": "stdout",
          "output_type": "stream",
          "text": [
            "8/8 [==============================] - 1s 71ms/step - loss: 0.6146 - accuracy: 0.7556 - val_loss: 0.3531 - val_accuracy: 0.9199\n",
            "Epoch 84/200\n",
            "1/8 [==>...........................] - ETA: 0s - loss: 0.7282 - accuracy: 0.6953\n",
            "Epoch 84: saving model to model\\hand_gesture_classifier\n",
            "INFO:tensorflow:Assets written to: model\\hand_gesture_classifier\\assets\n"
          ]
        },
        {
          "name": "stderr",
          "output_type": "stream",
          "text": [
            "INFO:tensorflow:Assets written to: model\\hand_gesture_classifier\\assets\n"
          ]
        },
        {
          "name": "stdout",
          "output_type": "stream",
          "text": [
            "8/8 [==============================] - 1s 75ms/step - loss: 0.6476 - accuracy: 0.7213 - val_loss: 0.3521 - val_accuracy: 0.9103\n",
            "Epoch 85/200\n",
            "1/8 [==>...........................] - ETA: 0s - loss: 0.6647 - accuracy: 0.7656\n",
            "Epoch 85: saving model to model\\hand_gesture_classifier\n",
            "INFO:tensorflow:Assets written to: model\\hand_gesture_classifier\\assets\n"
          ]
        },
        {
          "name": "stderr",
          "output_type": "stream",
          "text": [
            "INFO:tensorflow:Assets written to: model\\hand_gesture_classifier\\assets\n"
          ]
        },
        {
          "name": "stdout",
          "output_type": "stream",
          "text": [
            "8/8 [==============================] - 1s 94ms/step - loss: 0.6242 - accuracy: 0.7385 - val_loss: 0.3466 - val_accuracy: 0.9263\n",
            "Epoch 86/200\n",
            "1/8 [==>...........................] - ETA: 0s - loss: 0.5543 - accuracy: 0.7969\n",
            "Epoch 86: saving model to model\\hand_gesture_classifier\n",
            "INFO:tensorflow:Assets written to: model\\hand_gesture_classifier\\assets\n"
          ]
        },
        {
          "name": "stderr",
          "output_type": "stream",
          "text": [
            "INFO:tensorflow:Assets written to: model\\hand_gesture_classifier\\assets\n"
          ]
        },
        {
          "name": "stdout",
          "output_type": "stream",
          "text": [
            "8/8 [==============================] - 1s 85ms/step - loss: 0.5720 - accuracy: 0.7824 - val_loss: 0.3389 - val_accuracy: 0.9263\n",
            "Epoch 87/200\n",
            "1/8 [==>...........................] - ETA: 0s - loss: 0.5939 - accuracy: 0.7969\n",
            "Epoch 87: saving model to model\\hand_gesture_classifier\n",
            "INFO:tensorflow:Assets written to: model\\hand_gesture_classifier\\assets\n"
          ]
        },
        {
          "name": "stderr",
          "output_type": "stream",
          "text": [
            "INFO:tensorflow:Assets written to: model\\hand_gesture_classifier\\assets\n"
          ]
        },
        {
          "name": "stdout",
          "output_type": "stream",
          "text": [
            "8/8 [==============================] - 0s 69ms/step - loss: 0.6337 - accuracy: 0.7331 - val_loss: 0.3330 - val_accuracy: 0.9231\n",
            "Epoch 88/200\n",
            "1/8 [==>...........................] - ETA: 0s - loss: 0.5993 - accuracy: 0.7578\n",
            "Epoch 88: saving model to model\\hand_gesture_classifier\n",
            "INFO:tensorflow:Assets written to: model\\hand_gesture_classifier\\assets\n"
          ]
        },
        {
          "name": "stderr",
          "output_type": "stream",
          "text": [
            "INFO:tensorflow:Assets written to: model\\hand_gesture_classifier\\assets\n"
          ]
        },
        {
          "name": "stdout",
          "output_type": "stream",
          "text": [
            "8/8 [==============================] - 0s 68ms/step - loss: 0.5985 - accuracy: 0.7481 - val_loss: 0.3288 - val_accuracy: 0.9391\n",
            "Epoch 89/200\n",
            "1/8 [==>...........................] - ETA: 0s - loss: 0.6637 - accuracy: 0.7109\n",
            "Epoch 89: saving model to model\\hand_gesture_classifier\n",
            "INFO:tensorflow:Assets written to: model\\hand_gesture_classifier\\assets\n"
          ]
        },
        {
          "name": "stderr",
          "output_type": "stream",
          "text": [
            "INFO:tensorflow:Assets written to: model\\hand_gesture_classifier\\assets\n"
          ]
        },
        {
          "name": "stdout",
          "output_type": "stream",
          "text": [
            "8/8 [==============================] - 0s 68ms/step - loss: 0.6517 - accuracy: 0.7406 - val_loss: 0.3327 - val_accuracy: 0.9391\n",
            "Epoch 90/200\n",
            "1/8 [==>...........................] - ETA: 0s - loss: 0.5692 - accuracy: 0.7578\n",
            "Epoch 90: saving model to model\\hand_gesture_classifier\n",
            "INFO:tensorflow:Assets written to: model\\hand_gesture_classifier\\assets\n"
          ]
        },
        {
          "name": "stderr",
          "output_type": "stream",
          "text": [
            "INFO:tensorflow:Assets written to: model\\hand_gesture_classifier\\assets\n"
          ]
        },
        {
          "name": "stdout",
          "output_type": "stream",
          "text": [
            "8/8 [==============================] - 0s 69ms/step - loss: 0.5947 - accuracy: 0.7621 - val_loss: 0.3315 - val_accuracy: 0.9391\n",
            "Epoch 91/200\n",
            "1/8 [==>...........................] - ETA: 0s - loss: 0.5794 - accuracy: 0.7891\n",
            "Epoch 91: saving model to model\\hand_gesture_classifier\n",
            "INFO:tensorflow:Assets written to: model\\hand_gesture_classifier\\assets\n"
          ]
        },
        {
          "name": "stderr",
          "output_type": "stream",
          "text": [
            "INFO:tensorflow:Assets written to: model\\hand_gesture_classifier\\assets\n"
          ]
        },
        {
          "name": "stdout",
          "output_type": "stream",
          "text": [
            "8/8 [==============================] - 0s 70ms/step - loss: 0.5985 - accuracy: 0.7567 - val_loss: 0.3312 - val_accuracy: 0.9295\n",
            "Epoch 92/200\n",
            "1/8 [==>...........................] - ETA: 0s - loss: 0.6960 - accuracy: 0.6406\n",
            "Epoch 92: saving model to model\\hand_gesture_classifier\n",
            "INFO:tensorflow:Assets written to: model\\hand_gesture_classifier\\assets\n"
          ]
        },
        {
          "name": "stderr",
          "output_type": "stream",
          "text": [
            "INFO:tensorflow:Assets written to: model\\hand_gesture_classifier\\assets\n"
          ]
        },
        {
          "name": "stdout",
          "output_type": "stream",
          "text": [
            "8/8 [==============================] - 0s 68ms/step - loss: 0.6310 - accuracy: 0.7353 - val_loss: 0.3301 - val_accuracy: 0.9135\n",
            "Epoch 93/200\n",
            "1/8 [==>...........................] - ETA: 0s - loss: 0.6882 - accuracy: 0.7188\n",
            "Epoch 93: saving model to model\\hand_gesture_classifier\n",
            "INFO:tensorflow:Assets written to: model\\hand_gesture_classifier\\assets\n"
          ]
        },
        {
          "name": "stderr",
          "output_type": "stream",
          "text": [
            "INFO:tensorflow:Assets written to: model\\hand_gesture_classifier\\assets\n"
          ]
        },
        {
          "name": "stdout",
          "output_type": "stream",
          "text": [
            "8/8 [==============================] - 1s 91ms/step - loss: 0.6404 - accuracy: 0.7363 - val_loss: 0.3310 - val_accuracy: 0.9135\n",
            "Epoch 94/200\n",
            "1/8 [==>...........................] - ETA: 0s - loss: 0.5604 - accuracy: 0.7578\n",
            "Epoch 94: saving model to model\\hand_gesture_classifier\n",
            "INFO:tensorflow:Assets written to: model\\hand_gesture_classifier\\assets\n"
          ]
        },
        {
          "name": "stderr",
          "output_type": "stream",
          "text": [
            "INFO:tensorflow:Assets written to: model\\hand_gesture_classifier\\assets\n"
          ]
        },
        {
          "name": "stdout",
          "output_type": "stream",
          "text": [
            "8/8 [==============================] - 1s 73ms/step - loss: 0.6123 - accuracy: 0.7353 - val_loss: 0.3314 - val_accuracy: 0.9231\n",
            "Epoch 95/200\n",
            "1/8 [==>...........................] - ETA: 0s - loss: 0.6490 - accuracy: 0.7344\n",
            "Epoch 95: saving model to model\\hand_gesture_classifier\n",
            "INFO:tensorflow:Assets written to: model\\hand_gesture_classifier\\assets\n"
          ]
        },
        {
          "name": "stderr",
          "output_type": "stream",
          "text": [
            "INFO:tensorflow:Assets written to: model\\hand_gesture_classifier\\assets\n"
          ]
        },
        {
          "name": "stdout",
          "output_type": "stream",
          "text": [
            "8/8 [==============================] - 1s 71ms/step - loss: 0.5850 - accuracy: 0.7588 - val_loss: 0.3289 - val_accuracy: 0.9359\n",
            "Epoch 96/200\n",
            "1/8 [==>...........................] - ETA: 0s - loss: 0.6477 - accuracy: 0.7344\n",
            "Epoch 96: saving model to model\\hand_gesture_classifier\n",
            "INFO:tensorflow:Assets written to: model\\hand_gesture_classifier\\assets\n"
          ]
        },
        {
          "name": "stderr",
          "output_type": "stream",
          "text": [
            "INFO:tensorflow:Assets written to: model\\hand_gesture_classifier\\assets\n"
          ]
        },
        {
          "name": "stdout",
          "output_type": "stream",
          "text": [
            "8/8 [==============================] - 1s 74ms/step - loss: 0.6085 - accuracy: 0.7621 - val_loss: 0.3203 - val_accuracy: 0.9199\n",
            "Epoch 97/200\n",
            "1/8 [==>...........................] - ETA: 0s - loss: 0.5594 - accuracy: 0.8125\n",
            "Epoch 97: saving model to model\\hand_gesture_classifier\n",
            "INFO:tensorflow:Assets written to: model\\hand_gesture_classifier\\assets\n"
          ]
        },
        {
          "name": "stderr",
          "output_type": "stream",
          "text": [
            "INFO:tensorflow:Assets written to: model\\hand_gesture_classifier\\assets\n"
          ]
        },
        {
          "name": "stdout",
          "output_type": "stream",
          "text": [
            "8/8 [==============================] - 1s 76ms/step - loss: 0.6173 - accuracy: 0.7674 - val_loss: 0.3156 - val_accuracy: 0.9263\n",
            "Epoch 98/200\n",
            "1/8 [==>...........................] - ETA: 0s - loss: 0.5213 - accuracy: 0.7969\n",
            "Epoch 98: saving model to model\\hand_gesture_classifier\n",
            "INFO:tensorflow:Assets written to: model\\hand_gesture_classifier\\assets\n"
          ]
        },
        {
          "name": "stderr",
          "output_type": "stream",
          "text": [
            "INFO:tensorflow:Assets written to: model\\hand_gesture_classifier\\assets\n"
          ]
        },
        {
          "name": "stdout",
          "output_type": "stream",
          "text": [
            "8/8 [==============================] - 1s 76ms/step - loss: 0.5697 - accuracy: 0.7867 - val_loss: 0.3141 - val_accuracy: 0.9295\n",
            "Epoch 99/200\n",
            "1/8 [==>...........................] - ETA: 0s - loss: 0.5798 - accuracy: 0.8047\n",
            "Epoch 99: saving model to model\\hand_gesture_classifier\n",
            "INFO:tensorflow:Assets written to: model\\hand_gesture_classifier\\assets\n"
          ]
        },
        {
          "name": "stderr",
          "output_type": "stream",
          "text": [
            "INFO:tensorflow:Assets written to: model\\hand_gesture_classifier\\assets\n"
          ]
        },
        {
          "name": "stdout",
          "output_type": "stream",
          "text": [
            "8/8 [==============================] - 0s 69ms/step - loss: 0.5750 - accuracy: 0.7717 - val_loss: 0.3142 - val_accuracy: 0.9199\n",
            "Epoch 100/200\n",
            "1/8 [==>...........................] - ETA: 0s - loss: 0.6371 - accuracy: 0.7109\n",
            "Epoch 100: saving model to model\\hand_gesture_classifier\n",
            "INFO:tensorflow:Assets written to: model\\hand_gesture_classifier\\assets\n"
          ]
        },
        {
          "name": "stderr",
          "output_type": "stream",
          "text": [
            "INFO:tensorflow:Assets written to: model\\hand_gesture_classifier\\assets\n"
          ]
        },
        {
          "name": "stdout",
          "output_type": "stream",
          "text": [
            "8/8 [==============================] - 1s 71ms/step - loss: 0.5718 - accuracy: 0.7546 - val_loss: 0.3148 - val_accuracy: 0.9327\n",
            "Epoch 101/200\n",
            "1/8 [==>...........................] - ETA: 0s - loss: 0.5798 - accuracy: 0.7656\n",
            "Epoch 101: saving model to model\\hand_gesture_classifier\n",
            "INFO:tensorflow:Assets written to: model\\hand_gesture_classifier\\assets\n"
          ]
        },
        {
          "name": "stderr",
          "output_type": "stream",
          "text": [
            "INFO:tensorflow:Assets written to: model\\hand_gesture_classifier\\assets\n"
          ]
        },
        {
          "name": "stdout",
          "output_type": "stream",
          "text": [
            "8/8 [==============================] - 1s 92ms/step - loss: 0.5533 - accuracy: 0.7792 - val_loss: 0.3108 - val_accuracy: 0.9391\n",
            "Epoch 102/200\n",
            "1/8 [==>...........................] - ETA: 0s - loss: 0.6173 - accuracy: 0.7188\n",
            "Epoch 102: saving model to model\\hand_gesture_classifier\n",
            "INFO:tensorflow:Assets written to: model\\hand_gesture_classifier\\assets\n"
          ]
        },
        {
          "name": "stderr",
          "output_type": "stream",
          "text": [
            "INFO:tensorflow:Assets written to: model\\hand_gesture_classifier\\assets\n"
          ]
        },
        {
          "name": "stdout",
          "output_type": "stream",
          "text": [
            "8/8 [==============================] - 1s 74ms/step - loss: 0.5832 - accuracy: 0.7546 - val_loss: 0.3077 - val_accuracy: 0.9487\n",
            "Epoch 103/200\n",
            "1/8 [==>...........................] - ETA: 0s - loss: 0.6297 - accuracy: 0.7500\n",
            "Epoch 103: saving model to model\\hand_gesture_classifier\n",
            "INFO:tensorflow:Assets written to: model\\hand_gesture_classifier\\assets\n"
          ]
        },
        {
          "name": "stderr",
          "output_type": "stream",
          "text": [
            "INFO:tensorflow:Assets written to: model\\hand_gesture_classifier\\assets\n"
          ]
        },
        {
          "name": "stdout",
          "output_type": "stream",
          "text": [
            "8/8 [==============================] - 0s 70ms/step - loss: 0.5796 - accuracy: 0.7685 - val_loss: 0.3067 - val_accuracy: 0.9423\n",
            "Epoch 104/200\n",
            "1/8 [==>...........................] - ETA: 0s - loss: 0.6683 - accuracy: 0.7344\n",
            "Epoch 104: saving model to model\\hand_gesture_classifier\n",
            "INFO:tensorflow:Assets written to: model\\hand_gesture_classifier\\assets\n"
          ]
        },
        {
          "name": "stderr",
          "output_type": "stream",
          "text": [
            "INFO:tensorflow:Assets written to: model\\hand_gesture_classifier\\assets\n"
          ]
        },
        {
          "name": "stdout",
          "output_type": "stream",
          "text": [
            "8/8 [==============================] - 1s 72ms/step - loss: 0.6049 - accuracy: 0.7524 - val_loss: 0.3034 - val_accuracy: 0.9327\n",
            "Epoch 105/200\n",
            "1/8 [==>...........................] - ETA: 0s - loss: 0.6350 - accuracy: 0.6953\n",
            "Epoch 105: saving model to model\\hand_gesture_classifier\n",
            "INFO:tensorflow:Assets written to: model\\hand_gesture_classifier\\assets\n"
          ]
        },
        {
          "name": "stderr",
          "output_type": "stream",
          "text": [
            "INFO:tensorflow:Assets written to: model\\hand_gesture_classifier\\assets\n"
          ]
        },
        {
          "name": "stdout",
          "output_type": "stream",
          "text": [
            "8/8 [==============================] - 1s 78ms/step - loss: 0.6373 - accuracy: 0.7374 - val_loss: 0.3034 - val_accuracy: 0.9295\n",
            "Epoch 106/200\n",
            "1/8 [==>...........................] - ETA: 0s - loss: 0.4888 - accuracy: 0.7969\n",
            "Epoch 106: saving model to model\\hand_gesture_classifier\n",
            "INFO:tensorflow:Assets written to: model\\hand_gesture_classifier\\assets\n"
          ]
        },
        {
          "name": "stderr",
          "output_type": "stream",
          "text": [
            "INFO:tensorflow:Assets written to: model\\hand_gesture_classifier\\assets\n"
          ]
        },
        {
          "name": "stdout",
          "output_type": "stream",
          "text": [
            "8/8 [==============================] - 1s 73ms/step - loss: 0.5473 - accuracy: 0.7814 - val_loss: 0.3022 - val_accuracy: 0.9359\n",
            "Epoch 107/200\n",
            "1/8 [==>...........................] - ETA: 0s - loss: 0.6861 - accuracy: 0.7422\n",
            "Epoch 107: saving model to model\\hand_gesture_classifier\n",
            "INFO:tensorflow:Assets written to: model\\hand_gesture_classifier\\assets\n"
          ]
        },
        {
          "name": "stderr",
          "output_type": "stream",
          "text": [
            "INFO:tensorflow:Assets written to: model\\hand_gesture_classifier\\assets\n"
          ]
        },
        {
          "name": "stdout",
          "output_type": "stream",
          "text": [
            "8/8 [==============================] - 1s 82ms/step - loss: 0.6060 - accuracy: 0.7556 - val_loss: 0.3008 - val_accuracy: 0.9359\n",
            "Epoch 108/200\n",
            "1/8 [==>...........................] - ETA: 0s - loss: 0.4927 - accuracy: 0.8281\n",
            "Epoch 108: saving model to model\\hand_gesture_classifier\n",
            "INFO:tensorflow:Assets written to: model\\hand_gesture_classifier\\assets\n"
          ]
        },
        {
          "name": "stderr",
          "output_type": "stream",
          "text": [
            "INFO:tensorflow:Assets written to: model\\hand_gesture_classifier\\assets\n"
          ]
        },
        {
          "name": "stdout",
          "output_type": "stream",
          "text": [
            "8/8 [==============================] - 1s 73ms/step - loss: 0.5722 - accuracy: 0.7814 - val_loss: 0.2968 - val_accuracy: 0.9455\n",
            "Epoch 109/200\n",
            "1/8 [==>...........................] - ETA: 0s - loss: 0.5614 - accuracy: 0.7656\n",
            "Epoch 109: saving model to model\\hand_gesture_classifier\n",
            "INFO:tensorflow:Assets written to: model\\hand_gesture_classifier\\assets\n"
          ]
        },
        {
          "name": "stderr",
          "output_type": "stream",
          "text": [
            "INFO:tensorflow:Assets written to: model\\hand_gesture_classifier\\assets\n"
          ]
        },
        {
          "name": "stdout",
          "output_type": "stream",
          "text": [
            "8/8 [==============================] - 1s 95ms/step - loss: 0.5553 - accuracy: 0.7792 - val_loss: 0.2960 - val_accuracy: 0.9455\n",
            "Epoch 110/200\n",
            "1/8 [==>...........................] - ETA: 0s - loss: 0.5336 - accuracy: 0.7734\n",
            "Epoch 110: saving model to model\\hand_gesture_classifier\n",
            "INFO:tensorflow:Assets written to: model\\hand_gesture_classifier\\assets\n"
          ]
        },
        {
          "name": "stderr",
          "output_type": "stream",
          "text": [
            "INFO:tensorflow:Assets written to: model\\hand_gesture_classifier\\assets\n"
          ]
        },
        {
          "name": "stdout",
          "output_type": "stream",
          "text": [
            "8/8 [==============================] - 1s 73ms/step - loss: 0.5393 - accuracy: 0.7889 - val_loss: 0.2910 - val_accuracy: 0.9455\n",
            "Epoch 111/200\n",
            "1/8 [==>...........................] - ETA: 0s - loss: 0.5320 - accuracy: 0.8047\n",
            "Epoch 111: saving model to model\\hand_gesture_classifier\n",
            "INFO:tensorflow:Assets written to: model\\hand_gesture_classifier\\assets\n"
          ]
        },
        {
          "name": "stderr",
          "output_type": "stream",
          "text": [
            "INFO:tensorflow:Assets written to: model\\hand_gesture_classifier\\assets\n"
          ]
        },
        {
          "name": "stdout",
          "output_type": "stream",
          "text": [
            "8/8 [==============================] - 1s 81ms/step - loss: 0.5764 - accuracy: 0.7728 - val_loss: 0.2872 - val_accuracy: 0.9391\n",
            "Epoch 112/200\n",
            "1/8 [==>...........................] - ETA: 0s - loss: 0.6282 - accuracy: 0.7109\n",
            "Epoch 112: saving model to model\\hand_gesture_classifier\n",
            "INFO:tensorflow:Assets written to: model\\hand_gesture_classifier\\assets\n"
          ]
        },
        {
          "name": "stderr",
          "output_type": "stream",
          "text": [
            "INFO:tensorflow:Assets written to: model\\hand_gesture_classifier\\assets\n"
          ]
        },
        {
          "name": "stdout",
          "output_type": "stream",
          "text": [
            "8/8 [==============================] - 1s 78ms/step - loss: 0.5500 - accuracy: 0.7814 - val_loss: 0.2834 - val_accuracy: 0.9455\n",
            "Epoch 113/200\n",
            "1/8 [==>...........................] - ETA: 0s - loss: 0.6003 - accuracy: 0.7500\n",
            "Epoch 113: saving model to model\\hand_gesture_classifier\n",
            "INFO:tensorflow:Assets written to: model\\hand_gesture_classifier\\assets\n"
          ]
        },
        {
          "name": "stderr",
          "output_type": "stream",
          "text": [
            "INFO:tensorflow:Assets written to: model\\hand_gesture_classifier\\assets\n"
          ]
        },
        {
          "name": "stdout",
          "output_type": "stream",
          "text": [
            "8/8 [==============================] - 1s 74ms/step - loss: 0.5661 - accuracy: 0.7685 - val_loss: 0.2837 - val_accuracy: 0.9231\n",
            "Epoch 114/200\n",
            "1/8 [==>...........................] - ETA: 0s - loss: 0.5906 - accuracy: 0.7891\n",
            "Epoch 114: saving model to model\\hand_gesture_classifier\n",
            "INFO:tensorflow:Assets written to: model\\hand_gesture_classifier\\assets\n"
          ]
        },
        {
          "name": "stderr",
          "output_type": "stream",
          "text": [
            "INFO:tensorflow:Assets written to: model\\hand_gesture_classifier\\assets\n"
          ]
        },
        {
          "name": "stdout",
          "output_type": "stream",
          "text": [
            "8/8 [==============================] - 1s 81ms/step - loss: 0.5718 - accuracy: 0.7685 - val_loss: 0.2853 - val_accuracy: 0.9263\n",
            "Epoch 115/200\n",
            "1/8 [==>...........................] - ETA: 0s - loss: 0.5544 - accuracy: 0.7656\n",
            "Epoch 115: saving model to model\\hand_gesture_classifier\n",
            "INFO:tensorflow:Assets written to: model\\hand_gesture_classifier\\assets\n"
          ]
        },
        {
          "name": "stderr",
          "output_type": "stream",
          "text": [
            "INFO:tensorflow:Assets written to: model\\hand_gesture_classifier\\assets\n"
          ]
        },
        {
          "name": "stdout",
          "output_type": "stream",
          "text": [
            "8/8 [==============================] - 1s 81ms/step - loss: 0.5646 - accuracy: 0.7824 - val_loss: 0.2867 - val_accuracy: 0.9359\n",
            "Epoch 116/200\n",
            "1/8 [==>...........................] - ETA: 0s - loss: 0.5279 - accuracy: 0.8047\n",
            "Epoch 116: saving model to model\\hand_gesture_classifier\n",
            "INFO:tensorflow:Assets written to: model\\hand_gesture_classifier\\assets\n"
          ]
        },
        {
          "name": "stderr",
          "output_type": "stream",
          "text": [
            "INFO:tensorflow:Assets written to: model\\hand_gesture_classifier\\assets\n"
          ]
        },
        {
          "name": "stdout",
          "output_type": "stream",
          "text": [
            "8/8 [==============================] - 1s 75ms/step - loss: 0.5802 - accuracy: 0.7674 - val_loss: 0.2840 - val_accuracy: 0.9391\n",
            "Epoch 117/200\n",
            "1/8 [==>...........................] - ETA: 0s - loss: 0.6158 - accuracy: 0.7578\n",
            "Epoch 117: saving model to model\\hand_gesture_classifier\n",
            "INFO:tensorflow:Assets written to: model\\hand_gesture_classifier\\assets\n"
          ]
        },
        {
          "name": "stderr",
          "output_type": "stream",
          "text": [
            "INFO:tensorflow:Assets written to: model\\hand_gesture_classifier\\assets\n"
          ]
        },
        {
          "name": "stdout",
          "output_type": "stream",
          "text": [
            "8/8 [==============================] - 1s 104ms/step - loss: 0.5576 - accuracy: 0.7803 - val_loss: 0.2798 - val_accuracy: 0.9455\n",
            "Epoch 118/200\n",
            "1/8 [==>...........................] - ETA: 0s - loss: 0.5414 - accuracy: 0.7812\n",
            "Epoch 118: saving model to model\\hand_gesture_classifier\n",
            "INFO:tensorflow:Assets written to: model\\hand_gesture_classifier\\assets\n"
          ]
        },
        {
          "name": "stderr",
          "output_type": "stream",
          "text": [
            "INFO:tensorflow:Assets written to: model\\hand_gesture_classifier\\assets\n"
          ]
        },
        {
          "name": "stdout",
          "output_type": "stream",
          "text": [
            "8/8 [==============================] - 1s 81ms/step - loss: 0.5359 - accuracy: 0.7771 - val_loss: 0.2741 - val_accuracy: 0.9455\n",
            "Epoch 119/200\n",
            "1/8 [==>...........................] - ETA: 0s - loss: 0.5464 - accuracy: 0.7969\n",
            "Epoch 119: saving model to model\\hand_gesture_classifier\n",
            "INFO:tensorflow:Assets written to: model\\hand_gesture_classifier\\assets\n"
          ]
        },
        {
          "name": "stderr",
          "output_type": "stream",
          "text": [
            "INFO:tensorflow:Assets written to: model\\hand_gesture_classifier\\assets\n"
          ]
        },
        {
          "name": "stdout",
          "output_type": "stream",
          "text": [
            "8/8 [==============================] - 1s 84ms/step - loss: 0.5626 - accuracy: 0.7728 - val_loss: 0.2734 - val_accuracy: 0.9391\n",
            "Epoch 120/200\n",
            "1/8 [==>...........................] - ETA: 0s - loss: 0.5845 - accuracy: 0.7969\n",
            "Epoch 120: saving model to model\\hand_gesture_classifier\n",
            "INFO:tensorflow:Assets written to: model\\hand_gesture_classifier\\assets\n"
          ]
        },
        {
          "name": "stderr",
          "output_type": "stream",
          "text": [
            "INFO:tensorflow:Assets written to: model\\hand_gesture_classifier\\assets\n"
          ]
        },
        {
          "name": "stdout",
          "output_type": "stream",
          "text": [
            "8/8 [==============================] - 1s 79ms/step - loss: 0.5396 - accuracy: 0.7910 - val_loss: 0.2740 - val_accuracy: 0.9359\n",
            "Epoch 121/200\n",
            "1/8 [==>...........................] - ETA: 0s - loss: 0.5362 - accuracy: 0.7891\n",
            "Epoch 121: saving model to model\\hand_gesture_classifier\n",
            "INFO:tensorflow:Assets written to: model\\hand_gesture_classifier\\assets\n"
          ]
        },
        {
          "name": "stderr",
          "output_type": "stream",
          "text": [
            "INFO:tensorflow:Assets written to: model\\hand_gesture_classifier\\assets\n"
          ]
        },
        {
          "name": "stdout",
          "output_type": "stream",
          "text": [
            "8/8 [==============================] - 1s 74ms/step - loss: 0.5860 - accuracy: 0.7728 - val_loss: 0.2742 - val_accuracy: 0.9391\n",
            "Epoch 122/200\n",
            "1/8 [==>...........................] - ETA: 0s - loss: 0.5247 - accuracy: 0.8281\n",
            "Epoch 122: saving model to model\\hand_gesture_classifier\n",
            "INFO:tensorflow:Assets written to: model\\hand_gesture_classifier\\assets\n"
          ]
        },
        {
          "name": "stderr",
          "output_type": "stream",
          "text": [
            "INFO:tensorflow:Assets written to: model\\hand_gesture_classifier\\assets\n"
          ]
        },
        {
          "name": "stdout",
          "output_type": "stream",
          "text": [
            "8/8 [==============================] - 1s 79ms/step - loss: 0.5597 - accuracy: 0.7749 - val_loss: 0.2774 - val_accuracy: 0.9423\n",
            "Epoch 123/200\n",
            "1/8 [==>...........................] - ETA: 0s - loss: 0.5809 - accuracy: 0.7344\n",
            "Epoch 123: saving model to model\\hand_gesture_classifier\n",
            "INFO:tensorflow:Assets written to: model\\hand_gesture_classifier\\assets\n"
          ]
        },
        {
          "name": "stderr",
          "output_type": "stream",
          "text": [
            "INFO:tensorflow:Assets written to: model\\hand_gesture_classifier\\assets\n"
          ]
        },
        {
          "name": "stdout",
          "output_type": "stream",
          "text": [
            "8/8 [==============================] - 1s 81ms/step - loss: 0.5541 - accuracy: 0.7653 - val_loss: 0.2762 - val_accuracy: 0.9455\n",
            "Epoch 124/200\n",
            "1/8 [==>...........................] - ETA: 0s - loss: 0.5178 - accuracy: 0.7578\n",
            "Epoch 124: saving model to model\\hand_gesture_classifier\n",
            "INFO:tensorflow:Assets written to: model\\hand_gesture_classifier\\assets\n"
          ]
        },
        {
          "name": "stderr",
          "output_type": "stream",
          "text": [
            "INFO:tensorflow:Assets written to: model\\hand_gesture_classifier\\assets\n"
          ]
        },
        {
          "name": "stdout",
          "output_type": "stream",
          "text": [
            "8/8 [==============================] - 1s 76ms/step - loss: 0.5117 - accuracy: 0.7953 - val_loss: 0.2712 - val_accuracy: 0.9455\n",
            "Epoch 125/200\n",
            "1/8 [==>...........................] - ETA: 0s - loss: 0.5642 - accuracy: 0.7656\n",
            "Epoch 125: saving model to model\\hand_gesture_classifier\n",
            "INFO:tensorflow:Assets written to: model\\hand_gesture_classifier\\assets\n"
          ]
        },
        {
          "name": "stderr",
          "output_type": "stream",
          "text": [
            "INFO:tensorflow:Assets written to: model\\hand_gesture_classifier\\assets\n"
          ]
        },
        {
          "name": "stdout",
          "output_type": "stream",
          "text": [
            "8/8 [==============================] - 1s 92ms/step - loss: 0.5736 - accuracy: 0.7685 - val_loss: 0.2703 - val_accuracy: 0.9327\n",
            "Epoch 126/200\n",
            "1/8 [==>...........................] - ETA: 0s - loss: 0.4527 - accuracy: 0.7969\n",
            "Epoch 126: saving model to model\\hand_gesture_classifier\n",
            "INFO:tensorflow:Assets written to: model\\hand_gesture_classifier\\assets\n"
          ]
        },
        {
          "name": "stderr",
          "output_type": "stream",
          "text": [
            "INFO:tensorflow:Assets written to: model\\hand_gesture_classifier\\assets\n"
          ]
        },
        {
          "name": "stdout",
          "output_type": "stream",
          "text": [
            "8/8 [==============================] - 1s 79ms/step - loss: 0.5680 - accuracy: 0.7717 - val_loss: 0.2681 - val_accuracy: 0.9391\n",
            "Epoch 127/200\n",
            "1/8 [==>...........................] - ETA: 0s - loss: 0.5241 - accuracy: 0.7656\n",
            "Epoch 127: saving model to model\\hand_gesture_classifier\n",
            "INFO:tensorflow:Assets written to: model\\hand_gesture_classifier\\assets\n"
          ]
        },
        {
          "name": "stderr",
          "output_type": "stream",
          "text": [
            "INFO:tensorflow:Assets written to: model\\hand_gesture_classifier\\assets\n"
          ]
        },
        {
          "name": "stdout",
          "output_type": "stream",
          "text": [
            "8/8 [==============================] - 1s 78ms/step - loss: 0.5304 - accuracy: 0.7910 - val_loss: 0.2689 - val_accuracy: 0.9391\n",
            "Epoch 128/200\n",
            "1/8 [==>...........................] - ETA: 0s - loss: 0.5009 - accuracy: 0.8359\n",
            "Epoch 128: saving model to model\\hand_gesture_classifier\n",
            "INFO:tensorflow:Assets written to: model\\hand_gesture_classifier\\assets\n"
          ]
        },
        {
          "name": "stderr",
          "output_type": "stream",
          "text": [
            "INFO:tensorflow:Assets written to: model\\hand_gesture_classifier\\assets\n"
          ]
        },
        {
          "name": "stdout",
          "output_type": "stream",
          "text": [
            "8/8 [==============================] - 1s 81ms/step - loss: 0.5609 - accuracy: 0.7781 - val_loss: 0.2739 - val_accuracy: 0.9295\n",
            "Epoch 129/200\n",
            "1/8 [==>...........................] - ETA: 0s - loss: 0.6260 - accuracy: 0.7344\n",
            "Epoch 129: saving model to model\\hand_gesture_classifier\n",
            "INFO:tensorflow:Assets written to: model\\hand_gesture_classifier\\assets\n"
          ]
        },
        {
          "name": "stderr",
          "output_type": "stream",
          "text": [
            "INFO:tensorflow:Assets written to: model\\hand_gesture_classifier\\assets\n"
          ]
        },
        {
          "name": "stdout",
          "output_type": "stream",
          "text": [
            "8/8 [==============================] - 1s 77ms/step - loss: 0.5772 - accuracy: 0.7674 - val_loss: 0.2706 - val_accuracy: 0.9327\n",
            "Epoch 130/200\n",
            "1/8 [==>...........................] - ETA: 0s - loss: 0.6043 - accuracy: 0.7891\n",
            "Epoch 130: saving model to model\\hand_gesture_classifier\n",
            "INFO:tensorflow:Assets written to: model\\hand_gesture_classifier\\assets\n"
          ]
        },
        {
          "name": "stderr",
          "output_type": "stream",
          "text": [
            "INFO:tensorflow:Assets written to: model\\hand_gesture_classifier\\assets\n"
          ]
        },
        {
          "name": "stdout",
          "output_type": "stream",
          "text": [
            "8/8 [==============================] - 1s 84ms/step - loss: 0.5314 - accuracy: 0.7996 - val_loss: 0.2598 - val_accuracy: 0.9423\n",
            "Epoch 131/200\n",
            "1/8 [==>...........................] - ETA: 0s - loss: 0.6192 - accuracy: 0.7891\n",
            "Epoch 131: saving model to model\\hand_gesture_classifier\n",
            "INFO:tensorflow:Assets written to: model\\hand_gesture_classifier\\assets\n"
          ]
        },
        {
          "name": "stderr",
          "output_type": "stream",
          "text": [
            "INFO:tensorflow:Assets written to: model\\hand_gesture_classifier\\assets\n"
          ]
        },
        {
          "name": "stdout",
          "output_type": "stream",
          "text": [
            "8/8 [==============================] - 1s 78ms/step - loss: 0.5549 - accuracy: 0.7867 - val_loss: 0.2543 - val_accuracy: 0.9519\n",
            "Epoch 132/200\n",
            "1/8 [==>...........................] - ETA: 0s - loss: 0.5578 - accuracy: 0.7812\n",
            "Epoch 132: saving model to model\\hand_gesture_classifier\n",
            "INFO:tensorflow:Assets written to: model\\hand_gesture_classifier\\assets\n"
          ]
        },
        {
          "name": "stderr",
          "output_type": "stream",
          "text": [
            "INFO:tensorflow:Assets written to: model\\hand_gesture_classifier\\assets\n"
          ]
        },
        {
          "name": "stdout",
          "output_type": "stream",
          "text": [
            "8/8 [==============================] - 1s 73ms/step - loss: 0.5559 - accuracy: 0.7781 - val_loss: 0.2553 - val_accuracy: 0.9551\n",
            "Epoch 133/200\n",
            "1/8 [==>...........................] - ETA: 0s - loss: 0.3921 - accuracy: 0.8594\n",
            "Epoch 133: saving model to model\\hand_gesture_classifier\n",
            "INFO:tensorflow:Assets written to: model\\hand_gesture_classifier\\assets\n"
          ]
        },
        {
          "name": "stderr",
          "output_type": "stream",
          "text": [
            "INFO:tensorflow:Assets written to: model\\hand_gesture_classifier\\assets\n"
          ]
        },
        {
          "name": "stdout",
          "output_type": "stream",
          "text": [
            "8/8 [==============================] - 1s 101ms/step - loss: 0.5035 - accuracy: 0.7974 - val_loss: 0.2575 - val_accuracy: 0.9551\n",
            "Epoch 134/200\n",
            "1/8 [==>...........................] - ETA: 0s - loss: 0.4878 - accuracy: 0.8203\n",
            "Epoch 134: saving model to model\\hand_gesture_classifier\n",
            "INFO:tensorflow:Assets written to: model\\hand_gesture_classifier\\assets\n"
          ]
        },
        {
          "name": "stderr",
          "output_type": "stream",
          "text": [
            "INFO:tensorflow:Assets written to: model\\hand_gesture_classifier\\assets\n"
          ]
        },
        {
          "name": "stdout",
          "output_type": "stream",
          "text": [
            "8/8 [==============================] - 1s 76ms/step - loss: 0.5280 - accuracy: 0.7931 - val_loss: 0.2561 - val_accuracy: 0.9519\n",
            "Epoch 135/200\n",
            "1/8 [==>...........................] - ETA: 0s - loss: 0.4385 - accuracy: 0.8281\n",
            "Epoch 135: saving model to model\\hand_gesture_classifier\n",
            "INFO:tensorflow:Assets written to: model\\hand_gesture_classifier\\assets\n"
          ]
        },
        {
          "name": "stderr",
          "output_type": "stream",
          "text": [
            "INFO:tensorflow:Assets written to: model\\hand_gesture_classifier\\assets\n"
          ]
        },
        {
          "name": "stdout",
          "output_type": "stream",
          "text": [
            "8/8 [==============================] - 1s 82ms/step - loss: 0.5236 - accuracy: 0.8092 - val_loss: 0.2546 - val_accuracy: 0.9423\n",
            "Epoch 136/200\n",
            "1/8 [==>...........................] - ETA: 0s - loss: 0.6323 - accuracy: 0.7578\n",
            "Epoch 136: saving model to model\\hand_gesture_classifier\n",
            "INFO:tensorflow:Assets written to: model\\hand_gesture_classifier\\assets\n"
          ]
        },
        {
          "name": "stderr",
          "output_type": "stream",
          "text": [
            "INFO:tensorflow:Assets written to: model\\hand_gesture_classifier\\assets\n"
          ]
        },
        {
          "name": "stdout",
          "output_type": "stream",
          "text": [
            "8/8 [==============================] - 1s 80ms/step - loss: 0.5389 - accuracy: 0.7942 - val_loss: 0.2530 - val_accuracy: 0.9487\n",
            "Epoch 137/200\n",
            "1/8 [==>...........................] - ETA: 0s - loss: 0.5556 - accuracy: 0.7422\n",
            "Epoch 137: saving model to model\\hand_gesture_classifier\n",
            "INFO:tensorflow:Assets written to: model\\hand_gesture_classifier\\assets\n"
          ]
        },
        {
          "name": "stderr",
          "output_type": "stream",
          "text": [
            "INFO:tensorflow:Assets written to: model\\hand_gesture_classifier\\assets\n"
          ]
        },
        {
          "name": "stdout",
          "output_type": "stream",
          "text": [
            "8/8 [==============================] - 1s 86ms/step - loss: 0.5359 - accuracy: 0.7738 - val_loss: 0.2569 - val_accuracy: 0.9487\n",
            "Epoch 138/200\n",
            "1/8 [==>...........................] - ETA: 0s - loss: 0.4934 - accuracy: 0.8125\n",
            "Epoch 138: saving model to model\\hand_gesture_classifier\n",
            "INFO:tensorflow:Assets written to: model\\hand_gesture_classifier\\assets\n"
          ]
        },
        {
          "name": "stderr",
          "output_type": "stream",
          "text": [
            "INFO:tensorflow:Assets written to: model\\hand_gesture_classifier\\assets\n"
          ]
        },
        {
          "name": "stdout",
          "output_type": "stream",
          "text": [
            "8/8 [==============================] - 1s 84ms/step - loss: 0.5241 - accuracy: 0.8006 - val_loss: 0.2561 - val_accuracy: 0.9455\n",
            "Epoch 139/200\n",
            "1/8 [==>...........................] - ETA: 0s - loss: 0.5400 - accuracy: 0.7578\n",
            "Epoch 139: saving model to model\\hand_gesture_classifier\n",
            "INFO:tensorflow:Assets written to: model\\hand_gesture_classifier\\assets\n"
          ]
        },
        {
          "name": "stderr",
          "output_type": "stream",
          "text": [
            "INFO:tensorflow:Assets written to: model\\hand_gesture_classifier\\assets\n"
          ]
        },
        {
          "name": "stdout",
          "output_type": "stream",
          "text": [
            "8/8 [==============================] - 1s 77ms/step - loss: 0.5390 - accuracy: 0.7781 - val_loss: 0.2513 - val_accuracy: 0.9391\n",
            "Epoch 140/200\n",
            "1/8 [==>...........................] - ETA: 0s - loss: 0.5147 - accuracy: 0.8203\n",
            "Epoch 140: saving model to model\\hand_gesture_classifier\n",
            "INFO:tensorflow:Assets written to: model\\hand_gesture_classifier\\assets\n"
          ]
        },
        {
          "name": "stderr",
          "output_type": "stream",
          "text": [
            "INFO:tensorflow:Assets written to: model\\hand_gesture_classifier\\assets\n"
          ]
        },
        {
          "name": "stdout",
          "output_type": "stream",
          "text": [
            "8/8 [==============================] - 1s 77ms/step - loss: 0.5109 - accuracy: 0.8039 - val_loss: 0.2483 - val_accuracy: 0.9391\n",
            "Epoch 141/200\n",
            "1/8 [==>...........................] - ETA: 0s - loss: 0.4776 - accuracy: 0.8203\n",
            "Epoch 141: saving model to model\\hand_gesture_classifier\n",
            "INFO:tensorflow:Assets written to: model\\hand_gesture_classifier\\assets\n"
          ]
        },
        {
          "name": "stderr",
          "output_type": "stream",
          "text": [
            "INFO:tensorflow:Assets written to: model\\hand_gesture_classifier\\assets\n"
          ]
        },
        {
          "name": "stdout",
          "output_type": "stream",
          "text": [
            "8/8 [==============================] - 1s 102ms/step - loss: 0.5226 - accuracy: 0.8017 - val_loss: 0.2461 - val_accuracy: 0.9391\n",
            "Epoch 142/200\n",
            "1/8 [==>...........................] - ETA: 0s - loss: 0.5478 - accuracy: 0.7422\n",
            "Epoch 142: saving model to model\\hand_gesture_classifier\n",
            "INFO:tensorflow:Assets written to: model\\hand_gesture_classifier\\assets\n"
          ]
        },
        {
          "name": "stderr",
          "output_type": "stream",
          "text": [
            "INFO:tensorflow:Assets written to: model\\hand_gesture_classifier\\assets\n"
          ]
        },
        {
          "name": "stdout",
          "output_type": "stream",
          "text": [
            "8/8 [==============================] - 1s 79ms/step - loss: 0.5487 - accuracy: 0.7878 - val_loss: 0.2467 - val_accuracy: 0.9519\n",
            "Epoch 143/200\n",
            "1/8 [==>...........................] - ETA: 0s - loss: 0.5395 - accuracy: 0.7969\n",
            "Epoch 143: saving model to model\\hand_gesture_classifier\n",
            "INFO:tensorflow:Assets written to: model\\hand_gesture_classifier\\assets\n"
          ]
        },
        {
          "name": "stderr",
          "output_type": "stream",
          "text": [
            "INFO:tensorflow:Assets written to: model\\hand_gesture_classifier\\assets\n"
          ]
        },
        {
          "name": "stdout",
          "output_type": "stream",
          "text": [
            "8/8 [==============================] - 1s 81ms/step - loss: 0.5343 - accuracy: 0.7889 - val_loss: 0.2487 - val_accuracy: 0.9551\n",
            "Epoch 144/200\n",
            "1/8 [==>...........................] - ETA: 0s - loss: 0.5023 - accuracy: 0.7969\n",
            "Epoch 144: saving model to model\\hand_gesture_classifier\n",
            "INFO:tensorflow:Assets written to: model\\hand_gesture_classifier\\assets\n"
          ]
        },
        {
          "name": "stderr",
          "output_type": "stream",
          "text": [
            "INFO:tensorflow:Assets written to: model\\hand_gesture_classifier\\assets\n"
          ]
        },
        {
          "name": "stdout",
          "output_type": "stream",
          "text": [
            "8/8 [==============================] - 1s 89ms/step - loss: 0.5284 - accuracy: 0.7878 - val_loss: 0.2520 - val_accuracy: 0.9551\n",
            "Epoch 145/200\n",
            "1/8 [==>...........................] - ETA: 0s - loss: 0.4603 - accuracy: 0.8359\n",
            "Epoch 145: saving model to model\\hand_gesture_classifier\n",
            "INFO:tensorflow:Assets written to: model\\hand_gesture_classifier\\assets\n"
          ]
        },
        {
          "name": "stderr",
          "output_type": "stream",
          "text": [
            "INFO:tensorflow:Assets written to: model\\hand_gesture_classifier\\assets\n"
          ]
        },
        {
          "name": "stdout",
          "output_type": "stream",
          "text": [
            "8/8 [==============================] - 1s 114ms/step - loss: 0.5108 - accuracy: 0.8156 - val_loss: 0.2551 - val_accuracy: 0.9487\n",
            "Epoch 146/200\n",
            "1/8 [==>...........................] - ETA: 0s - loss: 0.5035 - accuracy: 0.8203\n",
            "Epoch 146: saving model to model\\hand_gesture_classifier\n",
            "INFO:tensorflow:Assets written to: model\\hand_gesture_classifier\\assets\n"
          ]
        },
        {
          "name": "stderr",
          "output_type": "stream",
          "text": [
            "INFO:tensorflow:Assets written to: model\\hand_gesture_classifier\\assets\n"
          ]
        },
        {
          "name": "stdout",
          "output_type": "stream",
          "text": [
            "8/8 [==============================] - 1s 77ms/step - loss: 0.5197 - accuracy: 0.7985 - val_loss: 0.2510 - val_accuracy: 0.9487\n",
            "Epoch 147/200\n",
            "1/8 [==>...........................] - ETA: 0s - loss: 0.4940 - accuracy: 0.8438\n",
            "Epoch 147: saving model to model\\hand_gesture_classifier\n",
            "INFO:tensorflow:Assets written to: model\\hand_gesture_classifier\\assets\n"
          ]
        },
        {
          "name": "stderr",
          "output_type": "stream",
          "text": [
            "INFO:tensorflow:Assets written to: model\\hand_gesture_classifier\\assets\n"
          ]
        },
        {
          "name": "stdout",
          "output_type": "stream",
          "text": [
            "8/8 [==============================] - 0s 70ms/step - loss: 0.5133 - accuracy: 0.7835 - val_loss: 0.2449 - val_accuracy: 0.9487\n",
            "Epoch 148/200\n",
            "1/8 [==>...........................] - ETA: 0s - loss: 0.5608 - accuracy: 0.8281\n",
            "Epoch 148: saving model to model\\hand_gesture_classifier\n",
            "INFO:tensorflow:Assets written to: model\\hand_gesture_classifier\\assets\n"
          ]
        },
        {
          "name": "stderr",
          "output_type": "stream",
          "text": [
            "INFO:tensorflow:Assets written to: model\\hand_gesture_classifier\\assets\n"
          ]
        },
        {
          "name": "stdout",
          "output_type": "stream",
          "text": [
            "8/8 [==============================] - 1s 79ms/step - loss: 0.5089 - accuracy: 0.8114 - val_loss: 0.2414 - val_accuracy: 0.9487\n",
            "Epoch 149/200\n",
            "1/8 [==>...........................] - ETA: 0s - loss: 0.5013 - accuracy: 0.8125\n",
            "Epoch 149: saving model to model\\hand_gesture_classifier\n",
            "INFO:tensorflow:Assets written to: model\\hand_gesture_classifier\\assets\n"
          ]
        },
        {
          "name": "stderr",
          "output_type": "stream",
          "text": [
            "INFO:tensorflow:Assets written to: model\\hand_gesture_classifier\\assets\n"
          ]
        },
        {
          "name": "stdout",
          "output_type": "stream",
          "text": [
            "8/8 [==============================] - 1s 96ms/step - loss: 0.5255 - accuracy: 0.7964 - val_loss: 0.2411 - val_accuracy: 0.9519\n",
            "Epoch 150/200\n",
            "1/8 [==>...........................] - ETA: 0s - loss: 0.4502 - accuracy: 0.8281\n",
            "Epoch 150: saving model to model\\hand_gesture_classifier\n",
            "INFO:tensorflow:Assets written to: model\\hand_gesture_classifier\\assets\n"
          ]
        },
        {
          "name": "stderr",
          "output_type": "stream",
          "text": [
            "INFO:tensorflow:Assets written to: model\\hand_gesture_classifier\\assets\n"
          ]
        },
        {
          "name": "stdout",
          "output_type": "stream",
          "text": [
            "8/8 [==============================] - 1s 72ms/step - loss: 0.4983 - accuracy: 0.8210 - val_loss: 0.2392 - val_accuracy: 0.9455\n",
            "Epoch 151/200\n",
            "1/8 [==>...........................] - ETA: 0s - loss: 0.4518 - accuracy: 0.8594\n",
            "Epoch 151: saving model to model\\hand_gesture_classifier\n",
            "INFO:tensorflow:Assets written to: model\\hand_gesture_classifier\\assets\n"
          ]
        },
        {
          "name": "stderr",
          "output_type": "stream",
          "text": [
            "INFO:tensorflow:Assets written to: model\\hand_gesture_classifier\\assets\n"
          ]
        },
        {
          "name": "stdout",
          "output_type": "stream",
          "text": [
            "8/8 [==============================] - 1s 76ms/step - loss: 0.5234 - accuracy: 0.7942 - val_loss: 0.2409 - val_accuracy: 0.9295\n",
            "Epoch 152/200\n",
            "1/8 [==>...........................] - ETA: 0s - loss: 0.5071 - accuracy: 0.7891\n",
            "Epoch 152: saving model to model\\hand_gesture_classifier\n",
            "INFO:tensorflow:Assets written to: model\\hand_gesture_classifier\\assets\n"
          ]
        },
        {
          "name": "stderr",
          "output_type": "stream",
          "text": [
            "INFO:tensorflow:Assets written to: model\\hand_gesture_classifier\\assets\n"
          ]
        },
        {
          "name": "stdout",
          "output_type": "stream",
          "text": [
            "8/8 [==============================] - 1s 85ms/step - loss: 0.5161 - accuracy: 0.8060 - val_loss: 0.2416 - val_accuracy: 0.9295\n",
            "Epoch 153/200\n",
            "1/8 [==>...........................] - ETA: 0s - loss: 0.3804 - accuracy: 0.8594\n",
            "Epoch 153: saving model to model\\hand_gesture_classifier\n",
            "INFO:tensorflow:Assets written to: model\\hand_gesture_classifier\\assets\n"
          ]
        },
        {
          "name": "stderr",
          "output_type": "stream",
          "text": [
            "INFO:tensorflow:Assets written to: model\\hand_gesture_classifier\\assets\n"
          ]
        },
        {
          "name": "stdout",
          "output_type": "stream",
          "text": [
            "8/8 [==============================] - 1s 74ms/step - loss: 0.5055 - accuracy: 0.7996 - val_loss: 0.2351 - val_accuracy: 0.9455\n",
            "Epoch 154/200\n",
            "1/8 [==>...........................] - ETA: 0s - loss: 0.4645 - accuracy: 0.8203\n",
            "Epoch 154: saving model to model\\hand_gesture_classifier\n",
            "INFO:tensorflow:Assets written to: model\\hand_gesture_classifier\\assets\n"
          ]
        },
        {
          "name": "stderr",
          "output_type": "stream",
          "text": [
            "INFO:tensorflow:Assets written to: model\\hand_gesture_classifier\\assets\n"
          ]
        },
        {
          "name": "stdout",
          "output_type": "stream",
          "text": [
            "8/8 [==============================] - 1s 73ms/step - loss: 0.5056 - accuracy: 0.7931 - val_loss: 0.2304 - val_accuracy: 0.9519\n",
            "Epoch 155/200\n",
            "1/8 [==>...........................] - ETA: 0s - loss: 0.5044 - accuracy: 0.7891\n",
            "Epoch 155: saving model to model\\hand_gesture_classifier\n",
            "INFO:tensorflow:Assets written to: model\\hand_gesture_classifier\\assets\n"
          ]
        },
        {
          "name": "stderr",
          "output_type": "stream",
          "text": [
            "INFO:tensorflow:Assets written to: model\\hand_gesture_classifier\\assets\n"
          ]
        },
        {
          "name": "stdout",
          "output_type": "stream",
          "text": [
            "8/8 [==============================] - 1s 84ms/step - loss: 0.5213 - accuracy: 0.7964 - val_loss: 0.2299 - val_accuracy: 0.9519\n",
            "Epoch 156/200\n",
            "1/8 [==>...........................] - ETA: 0s - loss: 0.5472 - accuracy: 0.8125\n",
            "Epoch 156: saving model to model\\hand_gesture_classifier\n",
            "INFO:tensorflow:Assets written to: model\\hand_gesture_classifier\\assets\n"
          ]
        },
        {
          "name": "stderr",
          "output_type": "stream",
          "text": [
            "INFO:tensorflow:Assets written to: model\\hand_gesture_classifier\\assets\n"
          ]
        },
        {
          "name": "stdout",
          "output_type": "stream",
          "text": [
            "8/8 [==============================] - 1s 76ms/step - loss: 0.4932 - accuracy: 0.8199 - val_loss: 0.2307 - val_accuracy: 0.9551\n",
            "Epoch 157/200\n",
            "1/8 [==>...........................] - ETA: 0s - loss: 0.5133 - accuracy: 0.8125\n",
            "Epoch 157: saving model to model\\hand_gesture_classifier\n",
            "INFO:tensorflow:Assets written to: model\\hand_gesture_classifier\\assets\n"
          ]
        },
        {
          "name": "stderr",
          "output_type": "stream",
          "text": [
            "INFO:tensorflow:Assets written to: model\\hand_gesture_classifier\\assets\n"
          ]
        },
        {
          "name": "stdout",
          "output_type": "stream",
          "text": [
            "8/8 [==============================] - 1s 98ms/step - loss: 0.5134 - accuracy: 0.8049 - val_loss: 0.2342 - val_accuracy: 0.9551\n",
            "Epoch 158/200\n",
            "1/8 [==>...........................] - ETA: 0s - loss: 0.5008 - accuracy: 0.7891\n",
            "Epoch 158: saving model to model\\hand_gesture_classifier\n",
            "INFO:tensorflow:Assets written to: model\\hand_gesture_classifier\\assets\n"
          ]
        },
        {
          "name": "stderr",
          "output_type": "stream",
          "text": [
            "INFO:tensorflow:Assets written to: model\\hand_gesture_classifier\\assets\n"
          ]
        },
        {
          "name": "stdout",
          "output_type": "stream",
          "text": [
            "8/8 [==============================] - 1s 85ms/step - loss: 0.4714 - accuracy: 0.8232 - val_loss: 0.2331 - val_accuracy: 0.9519\n",
            "Epoch 159/200\n",
            "1/8 [==>...........................] - ETA: 0s - loss: 0.5309 - accuracy: 0.7969\n",
            "Epoch 159: saving model to model\\hand_gesture_classifier\n",
            "INFO:tensorflow:Assets written to: model\\hand_gesture_classifier\\assets\n"
          ]
        },
        {
          "name": "stderr",
          "output_type": "stream",
          "text": [
            "INFO:tensorflow:Assets written to: model\\hand_gesture_classifier\\assets\n"
          ]
        },
        {
          "name": "stdout",
          "output_type": "stream",
          "text": [
            "8/8 [==============================] - 1s 83ms/step - loss: 0.4948 - accuracy: 0.8167 - val_loss: 0.2340 - val_accuracy: 0.9391\n",
            "Epoch 160/200\n",
            "1/8 [==>...........................] - ETA: 0s - loss: 0.5285 - accuracy: 0.7969\n",
            "Epoch 160: saving model to model\\hand_gesture_classifier\n",
            "INFO:tensorflow:Assets written to: model\\hand_gesture_classifier\\assets\n"
          ]
        },
        {
          "name": "stderr",
          "output_type": "stream",
          "text": [
            "INFO:tensorflow:Assets written to: model\\hand_gesture_classifier\\assets\n"
          ]
        },
        {
          "name": "stdout",
          "output_type": "stream",
          "text": [
            "8/8 [==============================] - 1s 83ms/step - loss: 0.5058 - accuracy: 0.7996 - val_loss: 0.2298 - val_accuracy: 0.9519\n",
            "Epoch 161/200\n",
            "1/8 [==>...........................] - ETA: 0s - loss: 0.5185 - accuracy: 0.7812\n",
            "Epoch 161: saving model to model\\hand_gesture_classifier\n",
            "INFO:tensorflow:Assets written to: model\\hand_gesture_classifier\\assets\n"
          ]
        },
        {
          "name": "stderr",
          "output_type": "stream",
          "text": [
            "INFO:tensorflow:Assets written to: model\\hand_gesture_classifier\\assets\n"
          ]
        },
        {
          "name": "stdout",
          "output_type": "stream",
          "text": [
            "8/8 [==============================] - 1s 82ms/step - loss: 0.5082 - accuracy: 0.8017 - val_loss: 0.2266 - val_accuracy: 0.9519\n",
            "Epoch 162/200\n",
            "1/8 [==>...........................] - ETA: 0s - loss: 0.5108 - accuracy: 0.7734\n",
            "Epoch 162: saving model to model\\hand_gesture_classifier\n",
            "INFO:tensorflow:Assets written to: model\\hand_gesture_classifier\\assets\n"
          ]
        },
        {
          "name": "stderr",
          "output_type": "stream",
          "text": [
            "INFO:tensorflow:Assets written to: model\\hand_gesture_classifier\\assets\n"
          ]
        },
        {
          "name": "stdout",
          "output_type": "stream",
          "text": [
            "8/8 [==============================] - 0s 70ms/step - loss: 0.5035 - accuracy: 0.8178 - val_loss: 0.2245 - val_accuracy: 0.9615\n",
            "Epoch 163/200\n",
            "1/8 [==>...........................] - ETA: 0s - loss: 0.4991 - accuracy: 0.7812\n",
            "Epoch 163: saving model to model\\hand_gesture_classifier\n",
            "INFO:tensorflow:Assets written to: model\\hand_gesture_classifier\\assets\n"
          ]
        },
        {
          "name": "stderr",
          "output_type": "stream",
          "text": [
            "INFO:tensorflow:Assets written to: model\\hand_gesture_classifier\\assets\n"
          ]
        },
        {
          "name": "stdout",
          "output_type": "stream",
          "text": [
            "8/8 [==============================] - 1s 75ms/step - loss: 0.5131 - accuracy: 0.8071 - val_loss: 0.2243 - val_accuracy: 0.9519\n",
            "Epoch 164/200\n",
            "1/8 [==>...........................] - ETA: 0s - loss: 0.4498 - accuracy: 0.8359\n",
            "Epoch 164: saving model to model\\hand_gesture_classifier\n",
            "INFO:tensorflow:Assets written to: model\\hand_gesture_classifier\\assets\n"
          ]
        },
        {
          "name": "stderr",
          "output_type": "stream",
          "text": [
            "INFO:tensorflow:Assets written to: model\\hand_gesture_classifier\\assets\n"
          ]
        },
        {
          "name": "stdout",
          "output_type": "stream",
          "text": [
            "8/8 [==============================] - 1s 89ms/step - loss: 0.5224 - accuracy: 0.8039 - val_loss: 0.2318 - val_accuracy: 0.9327\n",
            "Epoch 165/200\n",
            "1/8 [==>...........................] - ETA: 0s - loss: 0.4392 - accuracy: 0.8438\n",
            "Epoch 165: saving model to model\\hand_gesture_classifier\n",
            "INFO:tensorflow:Assets written to: model\\hand_gesture_classifier\\assets\n"
          ]
        },
        {
          "name": "stderr",
          "output_type": "stream",
          "text": [
            "INFO:tensorflow:Assets written to: model\\hand_gesture_classifier\\assets\n"
          ]
        },
        {
          "name": "stdout",
          "output_type": "stream",
          "text": [
            "8/8 [==============================] - 1s 95ms/step - loss: 0.4753 - accuracy: 0.8210 - val_loss: 0.2257 - val_accuracy: 0.9487\n",
            "Epoch 166/200\n",
            "1/8 [==>...........................] - ETA: 0s - loss: 0.5127 - accuracy: 0.7734\n",
            "Epoch 166: saving model to model\\hand_gesture_classifier\n",
            "INFO:tensorflow:Assets written to: model\\hand_gesture_classifier\\assets\n"
          ]
        },
        {
          "name": "stderr",
          "output_type": "stream",
          "text": [
            "INFO:tensorflow:Assets written to: model\\hand_gesture_classifier\\assets\n"
          ]
        },
        {
          "name": "stdout",
          "output_type": "stream",
          "text": [
            "8/8 [==============================] - 0s 71ms/step - loss: 0.4951 - accuracy: 0.7996 - val_loss: 0.2220 - val_accuracy: 0.9551\n",
            "Epoch 167/200\n",
            "1/8 [==>...........................] - ETA: 0s - loss: 0.4540 - accuracy: 0.7969\n",
            "Epoch 167: saving model to model\\hand_gesture_classifier\n",
            "INFO:tensorflow:Assets written to: model\\hand_gesture_classifier\\assets\n"
          ]
        },
        {
          "name": "stderr",
          "output_type": "stream",
          "text": [
            "INFO:tensorflow:Assets written to: model\\hand_gesture_classifier\\assets\n"
          ]
        },
        {
          "name": "stdout",
          "output_type": "stream",
          "text": [
            "8/8 [==============================] - 1s 76ms/step - loss: 0.4625 - accuracy: 0.8156 - val_loss: 0.2207 - val_accuracy: 0.9487\n",
            "Epoch 168/200\n",
            "1/8 [==>...........................] - ETA: 0s - loss: 0.6384 - accuracy: 0.7031\n",
            "Epoch 168: saving model to model\\hand_gesture_classifier\n",
            "INFO:tensorflow:Assets written to: model\\hand_gesture_classifier\\assets\n"
          ]
        },
        {
          "name": "stderr",
          "output_type": "stream",
          "text": [
            "INFO:tensorflow:Assets written to: model\\hand_gesture_classifier\\assets\n"
          ]
        },
        {
          "name": "stdout",
          "output_type": "stream",
          "text": [
            "8/8 [==============================] - 0s 70ms/step - loss: 0.4758 - accuracy: 0.8071 - val_loss: 0.2214 - val_accuracy: 0.9519\n",
            "Epoch 169/200\n",
            "1/8 [==>...........................] - ETA: 0s - loss: 0.5224 - accuracy: 0.7969\n",
            "Epoch 169: saving model to model\\hand_gesture_classifier\n",
            "INFO:tensorflow:Assets written to: model\\hand_gesture_classifier\\assets\n"
          ]
        },
        {
          "name": "stderr",
          "output_type": "stream",
          "text": [
            "INFO:tensorflow:Assets written to: model\\hand_gesture_classifier\\assets\n"
          ]
        },
        {
          "name": "stdout",
          "output_type": "stream",
          "text": [
            "8/8 [==============================] - 1s 80ms/step - loss: 0.4978 - accuracy: 0.8114 - val_loss: 0.2205 - val_accuracy: 0.9583\n",
            "Epoch 170/200\n",
            "1/8 [==>...........................] - ETA: 0s - loss: 0.4231 - accuracy: 0.8438\n",
            "Epoch 170: saving model to model\\hand_gesture_classifier\n",
            "INFO:tensorflow:Assets written to: model\\hand_gesture_classifier\\assets\n"
          ]
        },
        {
          "name": "stderr",
          "output_type": "stream",
          "text": [
            "INFO:tensorflow:Assets written to: model\\hand_gesture_classifier\\assets\n"
          ]
        },
        {
          "name": "stdout",
          "output_type": "stream",
          "text": [
            "8/8 [==============================] - 1s 83ms/step - loss: 0.4711 - accuracy: 0.8167 - val_loss: 0.2200 - val_accuracy: 0.9647\n",
            "Epoch 171/200\n",
            "1/8 [==>...........................] - ETA: 0s - loss: 0.4388 - accuracy: 0.8594\n",
            "Epoch 171: saving model to model\\hand_gesture_classifier\n",
            "INFO:tensorflow:Assets written to: model\\hand_gesture_classifier\\assets\n"
          ]
        },
        {
          "name": "stderr",
          "output_type": "stream",
          "text": [
            "INFO:tensorflow:Assets written to: model\\hand_gesture_classifier\\assets\n"
          ]
        },
        {
          "name": "stdout",
          "output_type": "stream",
          "text": [
            "8/8 [==============================] - 1s 76ms/step - loss: 0.4835 - accuracy: 0.8199 - val_loss: 0.2215 - val_accuracy: 0.9519\n",
            "Epoch 172/200\n",
            "1/8 [==>...........................] - ETA: 0s - loss: 0.4585 - accuracy: 0.8203\n",
            "Epoch 172: saving model to model\\hand_gesture_classifier\n",
            "INFO:tensorflow:Assets written to: model\\hand_gesture_classifier\\assets\n"
          ]
        },
        {
          "name": "stderr",
          "output_type": "stream",
          "text": [
            "INFO:tensorflow:Assets written to: model\\hand_gesture_classifier\\assets\n"
          ]
        },
        {
          "name": "stdout",
          "output_type": "stream",
          "text": [
            "8/8 [==============================] - 1s 76ms/step - loss: 0.4778 - accuracy: 0.8178 - val_loss: 0.2242 - val_accuracy: 0.9327\n",
            "Epoch 173/200\n",
            "1/8 [==>...........................] - ETA: 0s - loss: 0.4500 - accuracy: 0.8438\n",
            "Epoch 173: saving model to model\\hand_gesture_classifier\n",
            "INFO:tensorflow:Assets written to: model\\hand_gesture_classifier\\assets\n"
          ]
        },
        {
          "name": "stderr",
          "output_type": "stream",
          "text": [
            "INFO:tensorflow:Assets written to: model\\hand_gesture_classifier\\assets\n"
          ]
        },
        {
          "name": "stdout",
          "output_type": "stream",
          "text": [
            "8/8 [==============================] - 1s 99ms/step - loss: 0.4694 - accuracy: 0.8232 - val_loss: 0.2206 - val_accuracy: 0.9391\n",
            "Epoch 174/200\n",
            "1/8 [==>...........................] - ETA: 0s - loss: 0.4660 - accuracy: 0.8906\n",
            "Epoch 174: saving model to model\\hand_gesture_classifier\n",
            "INFO:tensorflow:Assets written to: model\\hand_gesture_classifier\\assets\n"
          ]
        },
        {
          "name": "stderr",
          "output_type": "stream",
          "text": [
            "INFO:tensorflow:Assets written to: model\\hand_gesture_classifier\\assets\n"
          ]
        },
        {
          "name": "stdout",
          "output_type": "stream",
          "text": [
            "8/8 [==============================] - 1s 82ms/step - loss: 0.4757 - accuracy: 0.8349 - val_loss: 0.2219 - val_accuracy: 0.9391\n",
            "Epoch 175/200\n",
            "1/8 [==>...........................] - ETA: 0s - loss: 0.3934 - accuracy: 0.8672\n",
            "Epoch 175: saving model to model\\hand_gesture_classifier\n",
            "INFO:tensorflow:Assets written to: model\\hand_gesture_classifier\\assets\n"
          ]
        },
        {
          "name": "stderr",
          "output_type": "stream",
          "text": [
            "INFO:tensorflow:Assets written to: model\\hand_gesture_classifier\\assets\n"
          ]
        },
        {
          "name": "stdout",
          "output_type": "stream",
          "text": [
            "8/8 [==============================] - 1s 76ms/step - loss: 0.4439 - accuracy: 0.8403 - val_loss: 0.2213 - val_accuracy: 0.9455\n",
            "Epoch 176/200\n",
            "1/8 [==>...........................] - ETA: 0s - loss: 0.4619 - accuracy: 0.8281\n",
            "Epoch 176: saving model to model\\hand_gesture_classifier\n",
            "INFO:tensorflow:Assets written to: model\\hand_gesture_classifier\\assets\n"
          ]
        },
        {
          "name": "stderr",
          "output_type": "stream",
          "text": [
            "INFO:tensorflow:Assets written to: model\\hand_gesture_classifier\\assets\n"
          ]
        },
        {
          "name": "stdout",
          "output_type": "stream",
          "text": [
            "8/8 [==============================] - 1s 76ms/step - loss: 0.4835 - accuracy: 0.8189 - val_loss: 0.2161 - val_accuracy: 0.9519\n",
            "Epoch 177/200\n",
            "1/8 [==>...........................] - ETA: 0s - loss: 0.5040 - accuracy: 0.7812\n",
            "Epoch 177: saving model to model\\hand_gesture_classifier\n",
            "INFO:tensorflow:Assets written to: model\\hand_gesture_classifier\\assets\n"
          ]
        },
        {
          "name": "stderr",
          "output_type": "stream",
          "text": [
            "INFO:tensorflow:Assets written to: model\\hand_gesture_classifier\\assets\n"
          ]
        },
        {
          "name": "stdout",
          "output_type": "stream",
          "text": [
            "8/8 [==============================] - 1s 80ms/step - loss: 0.4518 - accuracy: 0.8189 - val_loss: 0.2109 - val_accuracy: 0.9519\n",
            "Epoch 178/200\n",
            "1/8 [==>...........................] - ETA: 0s - loss: 0.4250 - accuracy: 0.8359\n",
            "Epoch 178: saving model to model\\hand_gesture_classifier\n",
            "INFO:tensorflow:Assets written to: model\\hand_gesture_classifier\\assets\n"
          ]
        },
        {
          "name": "stderr",
          "output_type": "stream",
          "text": [
            "INFO:tensorflow:Assets written to: model\\hand_gesture_classifier\\assets\n"
          ]
        },
        {
          "name": "stdout",
          "output_type": "stream",
          "text": [
            "8/8 [==============================] - 1s 72ms/step - loss: 0.4625 - accuracy: 0.8199 - val_loss: 0.2065 - val_accuracy: 0.9551\n",
            "Epoch 179/200\n",
            "1/8 [==>...........................] - ETA: 0s - loss: 0.4499 - accuracy: 0.8203\n",
            "Epoch 179: saving model to model\\hand_gesture_classifier\n",
            "INFO:tensorflow:Assets written to: model\\hand_gesture_classifier\\assets\n"
          ]
        },
        {
          "name": "stderr",
          "output_type": "stream",
          "text": [
            "INFO:tensorflow:Assets written to: model\\hand_gesture_classifier\\assets\n"
          ]
        },
        {
          "name": "stdout",
          "output_type": "stream",
          "text": [
            "8/8 [==============================] - 1s 73ms/step - loss: 0.4701 - accuracy: 0.8071 - val_loss: 0.2071 - val_accuracy: 0.9487\n",
            "Epoch 180/200\n",
            "1/8 [==>...........................] - ETA: 0s - loss: 0.5400 - accuracy: 0.7969\n",
            "Epoch 180: saving model to model\\hand_gesture_classifier\n",
            "INFO:tensorflow:Assets written to: model\\hand_gesture_classifier\\assets\n"
          ]
        },
        {
          "name": "stderr",
          "output_type": "stream",
          "text": [
            "INFO:tensorflow:Assets written to: model\\hand_gesture_classifier\\assets\n"
          ]
        },
        {
          "name": "stdout",
          "output_type": "stream",
          "text": [
            "8/8 [==============================] - 1s 77ms/step - loss: 0.4304 - accuracy: 0.8467 - val_loss: 0.2062 - val_accuracy: 0.9551\n",
            "Epoch 181/200\n",
            "1/8 [==>...........................] - ETA: 0s - loss: 0.4731 - accuracy: 0.8203\n",
            "Epoch 181: saving model to model\\hand_gesture_classifier\n",
            "INFO:tensorflow:Assets written to: model\\hand_gesture_classifier\\assets\n"
          ]
        },
        {
          "name": "stderr",
          "output_type": "stream",
          "text": [
            "INFO:tensorflow:Assets written to: model\\hand_gesture_classifier\\assets\n"
          ]
        },
        {
          "name": "stdout",
          "output_type": "stream",
          "text": [
            "8/8 [==============================] - 1s 90ms/step - loss: 0.4826 - accuracy: 0.8296 - val_loss: 0.2073 - val_accuracy: 0.9551\n",
            "Epoch 182/200\n",
            "1/8 [==>...........................] - ETA: 0s - loss: 0.4436 - accuracy: 0.8281\n",
            "Epoch 182: saving model to model\\hand_gesture_classifier\n",
            "INFO:tensorflow:Assets written to: model\\hand_gesture_classifier\\assets\n"
          ]
        },
        {
          "name": "stderr",
          "output_type": "stream",
          "text": [
            "INFO:tensorflow:Assets written to: model\\hand_gesture_classifier\\assets\n"
          ]
        },
        {
          "name": "stdout",
          "output_type": "stream",
          "text": [
            "8/8 [==============================] - 1s 75ms/step - loss: 0.4809 - accuracy: 0.8060 - val_loss: 0.2053 - val_accuracy: 0.9519\n",
            "Epoch 183/200\n",
            "1/8 [==>...........................] - ETA: 0s - loss: 0.4835 - accuracy: 0.8281\n",
            "Epoch 183: saving model to model\\hand_gesture_classifier\n",
            "INFO:tensorflow:Assets written to: model\\hand_gesture_classifier\\assets\n"
          ]
        },
        {
          "name": "stderr",
          "output_type": "stream",
          "text": [
            "INFO:tensorflow:Assets written to: model\\hand_gesture_classifier\\assets\n"
          ]
        },
        {
          "name": "stdout",
          "output_type": "stream",
          "text": [
            "8/8 [==============================] - 1s 80ms/step - loss: 0.4623 - accuracy: 0.8307 - val_loss: 0.2033 - val_accuracy: 0.9519\n",
            "Epoch 184/200\n",
            "1/8 [==>...........................] - ETA: 0s - loss: 0.4454 - accuracy: 0.8516\n",
            "Epoch 184: saving model to model\\hand_gesture_classifier\n",
            "INFO:tensorflow:Assets written to: model\\hand_gesture_classifier\\assets\n"
          ]
        },
        {
          "name": "stderr",
          "output_type": "stream",
          "text": [
            "INFO:tensorflow:Assets written to: model\\hand_gesture_classifier\\assets\n"
          ]
        },
        {
          "name": "stdout",
          "output_type": "stream",
          "text": [
            "8/8 [==============================] - 1s 80ms/step - loss: 0.4527 - accuracy: 0.8307 - val_loss: 0.2038 - val_accuracy: 0.9551\n",
            "Epoch 185/200\n",
            "1/8 [==>...........................] - ETA: 0s - loss: 0.4770 - accuracy: 0.8359\n",
            "Epoch 185: saving model to model\\hand_gesture_classifier\n",
            "INFO:tensorflow:Assets written to: model\\hand_gesture_classifier\\assets\n"
          ]
        },
        {
          "name": "stderr",
          "output_type": "stream",
          "text": [
            "INFO:tensorflow:Assets written to: model\\hand_gesture_classifier\\assets\n"
          ]
        },
        {
          "name": "stdout",
          "output_type": "stream",
          "text": [
            "8/8 [==============================] - 1s 77ms/step - loss: 0.4619 - accuracy: 0.8317 - val_loss: 0.2018 - val_accuracy: 0.9551\n",
            "Epoch 186/200\n",
            "1/8 [==>...........................] - ETA: 0s - loss: 0.4365 - accuracy: 0.7969\n",
            "Epoch 186: saving model to model\\hand_gesture_classifier\n",
            "INFO:tensorflow:Assets written to: model\\hand_gesture_classifier\\assets\n"
          ]
        },
        {
          "name": "stderr",
          "output_type": "stream",
          "text": [
            "INFO:tensorflow:Assets written to: model\\hand_gesture_classifier\\assets\n"
          ]
        },
        {
          "name": "stdout",
          "output_type": "stream",
          "text": [
            "8/8 [==============================] - 1s 77ms/step - loss: 0.4720 - accuracy: 0.8114 - val_loss: 0.2021 - val_accuracy: 0.9551\n",
            "Epoch 187/200\n",
            "1/8 [==>...........................] - ETA: 0s - loss: 0.4808 - accuracy: 0.8125\n",
            "Epoch 187: saving model to model\\hand_gesture_classifier\n",
            "INFO:tensorflow:Assets written to: model\\hand_gesture_classifier\\assets\n"
          ]
        },
        {
          "name": "stderr",
          "output_type": "stream",
          "text": [
            "INFO:tensorflow:Assets written to: model\\hand_gesture_classifier\\assets\n"
          ]
        },
        {
          "name": "stdout",
          "output_type": "stream",
          "text": [
            "8/8 [==============================] - 1s 81ms/step - loss: 0.4872 - accuracy: 0.8028 - val_loss: 0.2018 - val_accuracy: 0.9647\n",
            "Epoch 188/200\n",
            "1/8 [==>...........................] - ETA: 0s - loss: 0.3570 - accuracy: 0.8906\n",
            "Epoch 188: saving model to model\\hand_gesture_classifier\n",
            "INFO:tensorflow:Assets written to: model\\hand_gesture_classifier\\assets\n"
          ]
        },
        {
          "name": "stderr",
          "output_type": "stream",
          "text": [
            "INFO:tensorflow:Assets written to: model\\hand_gesture_classifier\\assets\n"
          ]
        },
        {
          "name": "stdout",
          "output_type": "stream",
          "text": [
            "8/8 [==============================] - 1s 78ms/step - loss: 0.4726 - accuracy: 0.8328 - val_loss: 0.1994 - val_accuracy: 0.9647\n",
            "Epoch 189/200\n",
            "1/8 [==>...........................] - ETA: 0s - loss: 0.4844 - accuracy: 0.8203\n",
            "Epoch 189: saving model to model\\hand_gesture_classifier\n",
            "INFO:tensorflow:Assets written to: model\\hand_gesture_classifier\\assets\n"
          ]
        },
        {
          "name": "stderr",
          "output_type": "stream",
          "text": [
            "INFO:tensorflow:Assets written to: model\\hand_gesture_classifier\\assets\n"
          ]
        },
        {
          "name": "stdout",
          "output_type": "stream",
          "text": [
            "8/8 [==============================] - 1s 98ms/step - loss: 0.4753 - accuracy: 0.8178 - val_loss: 0.2030 - val_accuracy: 0.9647\n",
            "Epoch 190/200\n",
            "1/8 [==>...........................] - ETA: 0s - loss: 0.4387 - accuracy: 0.8516\n",
            "Epoch 190: saving model to model\\hand_gesture_classifier\n",
            "INFO:tensorflow:Assets written to: model\\hand_gesture_classifier\\assets\n"
          ]
        },
        {
          "name": "stderr",
          "output_type": "stream",
          "text": [
            "INFO:tensorflow:Assets written to: model\\hand_gesture_classifier\\assets\n"
          ]
        },
        {
          "name": "stdout",
          "output_type": "stream",
          "text": [
            "8/8 [==============================] - 1s 78ms/step - loss: 0.4777 - accuracy: 0.8178 - val_loss: 0.2065 - val_accuracy: 0.9615\n",
            "Epoch 191/200\n",
            "1/8 [==>...........................] - ETA: 0s - loss: 0.4983 - accuracy: 0.8047\n",
            "Epoch 191: saving model to model\\hand_gesture_classifier\n",
            "INFO:tensorflow:Assets written to: model\\hand_gesture_classifier\\assets\n"
          ]
        },
        {
          "name": "stderr",
          "output_type": "stream",
          "text": [
            "INFO:tensorflow:Assets written to: model\\hand_gesture_classifier\\assets\n"
          ]
        },
        {
          "name": "stdout",
          "output_type": "stream",
          "text": [
            "8/8 [==============================] - 1s 89ms/step - loss: 0.4574 - accuracy: 0.8242 - val_loss: 0.2086 - val_accuracy: 0.9551\n",
            "Epoch 192/200\n",
            "1/8 [==>...........................] - ETA: 0s - loss: 0.5768 - accuracy: 0.7656\n",
            "Epoch 192: saving model to model\\hand_gesture_classifier\n",
            "INFO:tensorflow:Assets written to: model\\hand_gesture_classifier\\assets\n"
          ]
        },
        {
          "name": "stderr",
          "output_type": "stream",
          "text": [
            "INFO:tensorflow:Assets written to: model\\hand_gesture_classifier\\assets\n"
          ]
        },
        {
          "name": "stdout",
          "output_type": "stream",
          "text": [
            "8/8 [==============================] - 1s 92ms/step - loss: 0.4533 - accuracy: 0.8360 - val_loss: 0.2116 - val_accuracy: 0.9551\n",
            "Epoch 193/200\n",
            "1/8 [==>...........................] - ETA: 0s - loss: 0.4323 - accuracy: 0.8047\n",
            "Epoch 193: saving model to model\\hand_gesture_classifier\n",
            "INFO:tensorflow:Assets written to: model\\hand_gesture_classifier\\assets\n"
          ]
        },
        {
          "name": "stderr",
          "output_type": "stream",
          "text": [
            "INFO:tensorflow:Assets written to: model\\hand_gesture_classifier\\assets\n"
          ]
        },
        {
          "name": "stdout",
          "output_type": "stream",
          "text": [
            "8/8 [==============================] - 1s 76ms/step - loss: 0.4345 - accuracy: 0.8253 - val_loss: 0.2014 - val_accuracy: 0.9583\n",
            "Epoch 194/200\n",
            "1/8 [==>...........................] - ETA: 0s - loss: 0.4265 - accuracy: 0.8359\n",
            "Epoch 194: saving model to model\\hand_gesture_classifier\n",
            "INFO:tensorflow:Assets written to: model\\hand_gesture_classifier\\assets\n"
          ]
        },
        {
          "name": "stderr",
          "output_type": "stream",
          "text": [
            "INFO:tensorflow:Assets written to: model\\hand_gesture_classifier\\assets\n"
          ]
        },
        {
          "name": "stdout",
          "output_type": "stream",
          "text": [
            "8/8 [==============================] - 1s 74ms/step - loss: 0.4610 - accuracy: 0.8103 - val_loss: 0.1963 - val_accuracy: 0.9551\n",
            "Epoch 195/200\n",
            "1/8 [==>...........................] - ETA: 0s - loss: 0.4575 - accuracy: 0.8125\n",
            "Epoch 195: saving model to model\\hand_gesture_classifier\n",
            "INFO:tensorflow:Assets written to: model\\hand_gesture_classifier\\assets\n"
          ]
        },
        {
          "name": "stderr",
          "output_type": "stream",
          "text": [
            "INFO:tensorflow:Assets written to: model\\hand_gesture_classifier\\assets\n"
          ]
        },
        {
          "name": "stdout",
          "output_type": "stream",
          "text": [
            "8/8 [==============================] - 1s 81ms/step - loss: 0.4660 - accuracy: 0.8146 - val_loss: 0.2001 - val_accuracy: 0.9551\n",
            "Epoch 196/200\n",
            "1/8 [==>...........................] - ETA: 0s - loss: 0.4054 - accuracy: 0.8516\n",
            "Epoch 196: saving model to model\\hand_gesture_classifier\n",
            "INFO:tensorflow:Assets written to: model\\hand_gesture_classifier\\assets\n"
          ]
        },
        {
          "name": "stderr",
          "output_type": "stream",
          "text": [
            "INFO:tensorflow:Assets written to: model\\hand_gesture_classifier\\assets\n"
          ]
        },
        {
          "name": "stdout",
          "output_type": "stream",
          "text": [
            "8/8 [==============================] - 1s 82ms/step - loss: 0.4578 - accuracy: 0.8199 - val_loss: 0.2023 - val_accuracy: 0.9615\n",
            "Epoch 197/200\n",
            "1/8 [==>...........................] - ETA: 0s - loss: 0.3608 - accuracy: 0.8281\n",
            "Epoch 197: saving model to model\\hand_gesture_classifier\n",
            "INFO:tensorflow:Assets written to: model\\hand_gesture_classifier\\assets\n"
          ]
        },
        {
          "name": "stderr",
          "output_type": "stream",
          "text": [
            "INFO:tensorflow:Assets written to: model\\hand_gesture_classifier\\assets\n"
          ]
        },
        {
          "name": "stdout",
          "output_type": "stream",
          "text": [
            "8/8 [==============================] - 1s 100ms/step - loss: 0.4783 - accuracy: 0.8103 - val_loss: 0.2050 - val_accuracy: 0.9583\n",
            "Epoch 198/200\n",
            "1/8 [==>...........................] - ETA: 0s - loss: 0.5574 - accuracy: 0.7344\n",
            "Epoch 198: saving model to model\\hand_gesture_classifier\n",
            "INFO:tensorflow:Assets written to: model\\hand_gesture_classifier\\assets\n"
          ]
        },
        {
          "name": "stderr",
          "output_type": "stream",
          "text": [
            "INFO:tensorflow:Assets written to: model\\hand_gesture_classifier\\assets\n"
          ]
        },
        {
          "name": "stdout",
          "output_type": "stream",
          "text": [
            "8/8 [==============================] - 1s 90ms/step - loss: 0.4709 - accuracy: 0.8103 - val_loss: 0.2044 - val_accuracy: 0.9615\n",
            "Epoch 199/200\n",
            "1/8 [==>...........................] - ETA: 0s - loss: 0.5329 - accuracy: 0.7812\n",
            "Epoch 199: saving model to model\\hand_gesture_classifier\n",
            "INFO:tensorflow:Assets written to: model\\hand_gesture_classifier\\assets\n"
          ]
        },
        {
          "name": "stderr",
          "output_type": "stream",
          "text": [
            "INFO:tensorflow:Assets written to: model\\hand_gesture_classifier\\assets\n"
          ]
        },
        {
          "name": "stdout",
          "output_type": "stream",
          "text": [
            "8/8 [==============================] - 1s 87ms/step - loss: 0.4707 - accuracy: 0.8081 - val_loss: 0.2021 - val_accuracy: 0.9583\n",
            "Epoch 200/200\n",
            "1/8 [==>...........................] - ETA: 0s - loss: 0.4790 - accuracy: 0.8438\n",
            "Epoch 200: saving model to model\\hand_gesture_classifier\n",
            "INFO:tensorflow:Assets written to: model\\hand_gesture_classifier\\assets\n"
          ]
        },
        {
          "name": "stderr",
          "output_type": "stream",
          "text": [
            "INFO:tensorflow:Assets written to: model\\hand_gesture_classifier\\assets\n"
          ]
        },
        {
          "name": "stdout",
          "output_type": "stream",
          "text": [
            "8/8 [==============================] - 1s 79ms/step - loss: 0.4430 - accuracy: 0.8317 - val_loss: 0.2034 - val_accuracy: 0.9519\n"
          ]
        },
        {
          "data": {
            "text/plain": [
              "<keras.src.callbacks.History at 0x1cb5bc680d0>"
            ]
          },
          "execution_count": 29,
          "metadata": {},
          "output_type": "execute_result"
        }
      ],
      "source": [
        "model.fit(\n",
        "    X_train,\n",
        "    y_train,\n",
        "    epochs=200,\n",
        "    batch_size=128,\n",
        "    validation_data=(X_test, y_test),\n",
        "    callbacks=[cp_callback, es_callback]\n",
        ")"
      ]
    },
    {
      "cell_type": "code",
      "execution_count": 30,
      "metadata": {
        "colab": {
          "base_uri": "https://localhost:8080/"
        },
        "id": "pxvb2Y299hE3",
        "outputId": "59eb3185-2e37-4b9e-bc9d-ab1b8ac29b7f"
      },
      "outputs": [
        {
          "name": "stdout",
          "output_type": "stream",
          "text": [
            "3/3 [==============================] - 0s 2ms/step - loss: 0.2034 - accuracy: 0.9519\n"
          ]
        }
      ],
      "source": [
        "# Model evaluation\n",
        "val_loss, val_acc = model.evaluate(X_test, y_test, batch_size=128)"
      ]
    },
    {
      "cell_type": "code",
      "execution_count": 31,
      "metadata": {
        "id": "RBkmDeUW9hE4"
      },
      "outputs": [],
      "source": [
        "# Loading the saved model\n",
        "model = tf.keras.models.load_model(model_save_path)"
      ]
    },
    {
      "cell_type": "markdown",
      "metadata": {
        "id": "FNP6aqzc9hE5"
      },
      "source": [
        "# Convert to model for Tensorflow-Lite"
      ]
    },
    {
      "cell_type": "code",
      "execution_count": 32,
      "metadata": {
        "id": "ODjnYyld9hE6"
      },
      "outputs": [
        {
          "name": "stdout",
          "output_type": "stream",
          "text": [
            "INFO:tensorflow:Assets written to: model/hand_gesture_classifier\\assets\n"
          ]
        },
        {
          "name": "stderr",
          "output_type": "stream",
          "text": [
            "INFO:tensorflow:Assets written to: model/hand_gesture_classifier\\assets\n"
          ]
        }
      ],
      "source": [
        "# Save as a model dedicated to inference\n",
        "model.save(model_save_path)"
      ]
    },
    {
      "cell_type": "code",
      "execution_count": 33,
      "metadata": {
        "colab": {
          "base_uri": "https://localhost:8080/"
        },
        "id": "zRfuK8Y59hE6",
        "outputId": "a4ca585c-b5d5-4244-8291-8674063209bb"
      },
      "outputs": [
        {
          "name": "stdout",
          "output_type": "stream",
          "text": [
            "INFO:tensorflow:Assets written to: C:\\Users\\dhara\\AppData\\Local\\Temp\\tmp4fj0nrpe\\assets\n"
          ]
        },
        {
          "name": "stderr",
          "output_type": "stream",
          "text": [
            "INFO:tensorflow:Assets written to: C:\\Users\\dhara\\AppData\\Local\\Temp\\tmp4fj0nrpe\\assets\n"
          ]
        },
        {
          "data": {
            "text/plain": [
              "6616"
            ]
          },
          "execution_count": 33,
          "metadata": {},
          "output_type": "execute_result"
        }
      ],
      "source": [
        "# Transform model (quantization)\n",
        "converter = tf.lite.TFLiteConverter.from_keras_model(model)\n",
        "converter.optimizations = [tf.lite.Optimize.DEFAULT]\n",
        "tflite_quantized_model = converter.convert()\n",
        "\n",
        "open(tflite_save_path, 'wb').write(tflite_quantized_model)"
      ]
    }
  ],
  "metadata": {
    "accelerator": "GPU",
    "colab": {
      "collapsed_sections": [],
      "name": "keypoint_classification_EN.ipynb",
      "provenance": [],
      "toc_visible": true
    },
    "kernelspec": {
      "display_name": "Python 3",
      "language": "python",
      "name": "python3"
    },
    "language_info": {
      "codemirror_mode": {
        "name": "ipython",
        "version": 3
      },
      "file_extension": ".py",
      "mimetype": "text/x-python",
      "name": "python",
      "nbconvert_exporter": "python",
      "pygments_lexer": "ipython3",
      "version": "3.8.10"
    }
  },
  "nbformat": 4,
  "nbformat_minor": 0
}
